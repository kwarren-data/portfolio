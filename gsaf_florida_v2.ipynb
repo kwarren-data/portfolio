{
 "cells": [
  {
   "cell_type": "markdown",
   "metadata": {},
   "source": [
    "## Global Shark Attack File Analysis for Florida, USA\n",
    "\n",
    "The Shark Research Institute (SRI) maintains a log of shark attacks worldwide, the Global Shark Attack File (GSAF). It is continually updated as new incidents occur, and was started in 1992 by the SRI. The current log file, in Excel form, can be downloaded from a link at the site below:\n",
    "\n",
    "https://www.sharks.org/global-shark-attack-file\n",
    "\n",
    "This project is a follow-on to the worldwide shark attack analysis previously completed, and can be found here: https://github.com/kwarren-data/portfolio/blob/main/gsaf_analysis_v2.ipynb\n",
    "\n",
    "The goal of this project to clean and analyze recorded shark attacks in florida since 1990(?). Some of the areas of interest in this project are type of incident (provoked, unprovoked, etc.), fatalities, the shark species involved and activity of the human."
   ]
  },
  {
   "cell_type": "code",
   "execution_count": 1,
   "metadata": {},
   "outputs": [],
   "source": [
    "# Import the needed modules\n",
    "import numpy as np\n",
    "import pandas as pd\n",
    "import matplotlib.pyplot as plt\n",
    "%matplotlib inline\n",
    "pd.options.mode.chained_assignment = None "
   ]
  },
  {
   "cell_type": "code",
   "execution_count": 2,
   "metadata": {},
   "outputs": [
    {
     "data": {
      "text/html": [
       "<div>\n",
       "<style scoped>\n",
       "    .dataframe tbody tr th:only-of-type {\n",
       "        vertical-align: middle;\n",
       "    }\n",
       "\n",
       "    .dataframe tbody tr th {\n",
       "        vertical-align: top;\n",
       "    }\n",
       "\n",
       "    .dataframe thead th {\n",
       "        text-align: right;\n",
       "    }\n",
       "</style>\n",
       "<table border=\"1\" class=\"dataframe\">\n",
       "  <thead>\n",
       "    <tr style=\"text-align: right;\">\n",
       "      <th></th>\n",
       "      <th>Case Number</th>\n",
       "      <th>Date</th>\n",
       "      <th>Year</th>\n",
       "      <th>Type</th>\n",
       "      <th>Country</th>\n",
       "      <th>Area</th>\n",
       "      <th>Location</th>\n",
       "      <th>Activity</th>\n",
       "      <th>Name</th>\n",
       "      <th>Unnamed: 9</th>\n",
       "      <th>...</th>\n",
       "      <th>Injury</th>\n",
       "      <th>Fatal (Y/N)</th>\n",
       "      <th>Time</th>\n",
       "      <th>Species</th>\n",
       "      <th>Investigator or Source</th>\n",
       "      <th>pdf</th>\n",
       "      <th>Fatal</th>\n",
       "      <th>species</th>\n",
       "      <th>Species</th>\n",
       "      <th>Species ID</th>\n",
       "    </tr>\n",
       "  </thead>\n",
       "  <tbody>\n",
       "    <tr>\n",
       "      <th>0</th>\n",
       "      <td>2020.02.05</td>\n",
       "      <td>05-Feb-2020</td>\n",
       "      <td>2020</td>\n",
       "      <td>Unprovoked</td>\n",
       "      <td>USA</td>\n",
       "      <td>Maui</td>\n",
       "      <td>NaN</td>\n",
       "      <td>stand up paddle boarding</td>\n",
       "      <td>NaN</td>\n",
       "      <td>NaN</td>\n",
       "      <td>...</td>\n",
       "      <td>No injury, but paddleboard bitten</td>\n",
       "      <td>N</td>\n",
       "      <td>09h40</td>\n",
       "      <td>Tiger shark</td>\n",
       "      <td>K. McMurray, TrackingSharks.com</td>\n",
       "      <td>NaN</td>\n",
       "      <td>0</td>\n",
       "      <td>['tiger', 'shark']</td>\n",
       "      <td>tiger shark</td>\n",
       "      <td>tiger shark</td>\n",
       "    </tr>\n",
       "    <tr>\n",
       "      <th>1</th>\n",
       "      <td>2020.01.30.R</td>\n",
       "      <td>Reported 30-Jan-2020</td>\n",
       "      <td>2020</td>\n",
       "      <td>Provoked</td>\n",
       "      <td>BAHAMAS</td>\n",
       "      <td>Exumas</td>\n",
       "      <td>NaN</td>\n",
       "      <td>swimming</td>\n",
       "      <td>Ana Bruna Avila</td>\n",
       "      <td>F</td>\n",
       "      <td>...</td>\n",
       "      <td>PROVOKED INCIDENT Scratches to left wrist</td>\n",
       "      <td>N</td>\n",
       "      <td>NaN</td>\n",
       "      <td>unknown</td>\n",
       "      <td>K. McMurray, TrackingSharks.com</td>\n",
       "      <td>NaN</td>\n",
       "      <td>0</td>\n",
       "      <td>['unknown']</td>\n",
       "      <td>unknown</td>\n",
       "      <td>TBD</td>\n",
       "    </tr>\n",
       "    <tr>\n",
       "      <th>2</th>\n",
       "      <td>2020.01.17</td>\n",
       "      <td>17-Jan-2020</td>\n",
       "      <td>2020</td>\n",
       "      <td>Unprovoked</td>\n",
       "      <td>AUSTRALIA</td>\n",
       "      <td>New South Wales</td>\n",
       "      <td>Windang Beach</td>\n",
       "      <td>surfing</td>\n",
       "      <td>Will Schroeter</td>\n",
       "      <td>M</td>\n",
       "      <td>...</td>\n",
       "      <td>Laceration ot left ankle and foot</td>\n",
       "      <td>N</td>\n",
       "      <td>08h00</td>\n",
       "      <td>\"A small shark\"</td>\n",
       "      <td>B. Myatt &amp; M. Michaelson, GSAF; K. McMurray, T...</td>\n",
       "      <td>2020.01.17-Schroeter.pdf</td>\n",
       "      <td>0</td>\n",
       "      <td>['a', 'small', 'shark']</td>\n",
       "      <td>a small shark</td>\n",
       "      <td>TBD</td>\n",
       "    </tr>\n",
       "    <tr>\n",
       "      <th>3</th>\n",
       "      <td>2020.01.16</td>\n",
       "      <td>16-Jan-2020</td>\n",
       "      <td>2020</td>\n",
       "      <td>Unprovoked</td>\n",
       "      <td>NEW ZEALAND</td>\n",
       "      <td>Southland</td>\n",
       "      <td>Oreti Beach</td>\n",
       "      <td>surfing</td>\n",
       "      <td>Jordan King</td>\n",
       "      <td>F</td>\n",
       "      <td>...</td>\n",
       "      <td>Minor injury to lower leg</td>\n",
       "      <td>N</td>\n",
       "      <td>20h30</td>\n",
       "      <td>Broadnose seven gill shark?</td>\n",
       "      <td>K. McMurray, TrackingSharks.com</td>\n",
       "      <td>2020.01.16-King.pdf</td>\n",
       "      <td>0</td>\n",
       "      <td>['broadnose', 'seven', 'gill', 'shark']</td>\n",
       "      <td>broadnose seven gill shark</td>\n",
       "      <td>7-gill shark</td>\n",
       "    </tr>\n",
       "    <tr>\n",
       "      <th>4</th>\n",
       "      <td>2020.01.13</td>\n",
       "      <td>13-Jan-2020</td>\n",
       "      <td>2020</td>\n",
       "      <td>Unprovoked</td>\n",
       "      <td>USA</td>\n",
       "      <td>North Carolina</td>\n",
       "      <td>Rodanthe, Dare County</td>\n",
       "      <td>surfing</td>\n",
       "      <td>Samuel Horne</td>\n",
       "      <td>M</td>\n",
       "      <td>...</td>\n",
       "      <td>Lacerations to foot</td>\n",
       "      <td>N</td>\n",
       "      <td>14h33</td>\n",
       "      <td>unknown</td>\n",
       "      <td>C. Creswell, GSAF</td>\n",
       "      <td>2020.01.13-Horne.pdf</td>\n",
       "      <td>0</td>\n",
       "      <td>['unknown']</td>\n",
       "      <td>unknown</td>\n",
       "      <td>TBD</td>\n",
       "    </tr>\n",
       "  </tbody>\n",
       "</table>\n",
       "<p>5 rows × 21 columns</p>\n",
       "</div>"
      ],
      "text/plain": [
       "    Case Number                  Date  Year        Type      Country  \\\n",
       "0    2020.02.05           05-Feb-2020  2020  Unprovoked          USA   \n",
       "1  2020.01.30.R  Reported 30-Jan-2020  2020    Provoked      BAHAMAS   \n",
       "2    2020.01.17           17-Jan-2020  2020  Unprovoked    AUSTRALIA   \n",
       "3    2020.01.16           16-Jan-2020  2020  Unprovoked  NEW ZEALAND   \n",
       "4    2020.01.13           13-Jan-2020  2020  Unprovoked          USA   \n",
       "\n",
       "              Area               Location                  Activity  \\\n",
       "0             Maui                    NaN  stand up paddle boarding   \n",
       "1           Exumas                    NaN                  swimming   \n",
       "2  New South Wales          Windang Beach                   surfing   \n",
       "3        Southland            Oreti Beach                   surfing   \n",
       "4   North Carolina  Rodanthe, Dare County                   surfing   \n",
       "\n",
       "              Name Unnamed: 9  ...                                     Injury  \\\n",
       "0              NaN        NaN  ...          No injury, but paddleboard bitten   \n",
       "1  Ana Bruna Avila          F  ...  PROVOKED INCIDENT Scratches to left wrist   \n",
       "2   Will Schroeter          M  ...          Laceration ot left ankle and foot   \n",
       "3      Jordan King          F  ...                  Minor injury to lower leg   \n",
       "4     Samuel Horne          M  ...                        Lacerations to foot   \n",
       "\n",
       "  Fatal (Y/N)   Time                     Species   \\\n",
       "0           N  09h40                  Tiger shark   \n",
       "1           N    NaN                      unknown   \n",
       "2           N  08h00              \"A small shark\"   \n",
       "3           N  20h30  Broadnose seven gill shark?   \n",
       "4           N  14h33                      unknown   \n",
       "\n",
       "                              Investigator or Source  \\\n",
       "0                    K. McMurray, TrackingSharks.com   \n",
       "1                    K. McMurray, TrackingSharks.com   \n",
       "2  B. Myatt & M. Michaelson, GSAF; K. McMurray, T...   \n",
       "3                    K. McMurray, TrackingSharks.com   \n",
       "4                                  C. Creswell, GSAF   \n",
       "\n",
       "                        pdf Fatal                                  species  \\\n",
       "0                       NaN     0                       ['tiger', 'shark']   \n",
       "1                       NaN     0                              ['unknown']   \n",
       "2  2020.01.17-Schroeter.pdf     0                  ['a', 'small', 'shark']   \n",
       "3       2020.01.16-King.pdf     0  ['broadnose', 'seven', 'gill', 'shark']   \n",
       "4      2020.01.13-Horne.pdf     0                              ['unknown']   \n",
       "\n",
       "                      Species    Species ID  \n",
       "0                 tiger shark   tiger shark  \n",
       "1                     unknown           TBD  \n",
       "2               a small shark           TBD  \n",
       "3  broadnose seven gill shark  7-gill shark  \n",
       "4                     unknown           TBD  \n",
       "\n",
       "[5 rows x 21 columns]"
      ]
     },
     "execution_count": 2,
     "metadata": {},
     "output_type": "execute_result"
    }
   ],
   "source": [
    "# Read in the cleaned CSV file from the Worldwide GSAF Data Analysis project\n",
    "gsaf = pd.read_csv('/home/ken/my_datasets/GSAF/GSAF_cleaned_v2.csv')\n",
    "gsaf.head()"
   ]
  },
  {
   "cell_type": "code",
   "execution_count": 3,
   "metadata": {},
   "outputs": [
    {
     "name": "stdout",
     "output_type": "stream",
     "text": [
      "<class 'pandas.core.frame.DataFrame'>\n",
      "Int64Index: 1044 entries, 20 to 5704\n",
      "Data columns (total 21 columns):\n",
      " #   Column                  Non-Null Count  Dtype \n",
      "---  ------                  --------------  ----- \n",
      " 0   Case Number             1044 non-null   object\n",
      " 1   Date                    1044 non-null   object\n",
      " 2   Year                    1044 non-null   int64 \n",
      " 3   Type                    1044 non-null   object\n",
      " 4   Country                 1044 non-null   object\n",
      " 5   Area                    1044 non-null   object\n",
      " 6   Location                1034 non-null   object\n",
      " 7   Activity                1044 non-null   object\n",
      " 8   Name                    1030 non-null   object\n",
      " 9   Unnamed: 9              2 non-null      object\n",
      " 10  Age                     844 non-null    object\n",
      " 11  Injury                  1041 non-null   object\n",
      " 12  Fatal (Y/N)             1044 non-null   object\n",
      " 13  Time                    747 non-null    object\n",
      " 14  Species                 1044 non-null   object\n",
      " 15  Investigator or Source  1038 non-null   object\n",
      " 16  pdf                     712 non-null    object\n",
      " 17  Fatal                   1044 non-null   int64 \n",
      " 18  species                 1044 non-null   object\n",
      " 19  Species                 1044 non-null   object\n",
      " 20  Species ID              1044 non-null   object\n",
      "dtypes: int64(2), object(19)\n",
      "memory usage: 179.4+ KB\n"
     ]
    }
   ],
   "source": [
    "florida = gsaf[gsaf['Area'] == 'Florida']\n",
    "florida.info()"
   ]
  },
  {
   "cell_type": "code",
   "execution_count": 4,
   "metadata": {},
   "outputs": [
    {
     "data": {
      "text/plain": [
       "(array([ 10.,  17.,  18.,   6.,  37.,  80.,  90., 132., 330., 324.]),\n",
       " array([1901. , 1912.8, 1924.6, 1936.4, 1948.2, 1960. , 1971.8, 1983.6,\n",
       "        1995.4, 2007.2, 2019. ]),\n",
       " <BarContainer object of 10 artists>)"
      ]
     },
     "execution_count": 4,
     "metadata": {},
     "output_type": "execute_result"
    },
    {
     "data": {
      "image/png": "[encoded data removed]",
      "text/plain": [
       "<Figure size 432x288 with 1 Axes>"
      ]
     },
     "metadata": {
      "needs_background": "light"
     },
     "output_type": "display_data"
    }
   ],
   "source": [
    "# Plot histogram of the Year column to see general trend of attacks since 1900\n",
    "plt.hist(florida['Year'])"
   ]
  },
  {
   "cell_type": "markdown",
   "metadata": {},
   "source": [
    "While there were shark attacks in Florida recorded since 1900, the majority has been since the late 1900s. We will isolate the attacks since 1990 for further analysis."
   ]
  },
  {
   "cell_type": "code",
   "execution_count": 5,
   "metadata": {},
   "outputs": [
    {
     "data": {
      "image/png": "[encoded data removed]",
      "text/plain": [
       "<Figure size 432x288 with 1 Axes>"
      ]
     },
     "metadata": {
      "needs_background": "light"
     },
     "output_type": "display_data"
    }
   ],
   "source": [
    "florida_30 = florida[florida['Year'] >= 1990]\n",
    "plt.hist(florida_30['Year'])\n",
    "plt.show()"
   ]
  },
  {
   "cell_type": "markdown",
   "metadata": {},
   "source": [
    "### Provoked versus Unprovoked Attacks\n",
    "\n",
    "The dataset has been narrowed down to those attacks recorded since 1990. Let's take a look at whether the majority have been provoked or unprovoked attacks."
   ]
  },
  {
   "cell_type": "code",
   "execution_count": 6,
   "metadata": {},
   "outputs": [
    {
     "data": {
      "text/plain": [
       "<AxesSubplot:>"
      ]
     },
     "execution_count": 6,
     "metadata": {},
     "output_type": "execute_result"
    },
    {
     "data": {
      "image/png": "[encoded data removed]",
      "text/plain": [
       "<Figure size 432x288 with 1 Axes>"
      ]
     },
     "metadata": {
      "needs_background": "light"
     },
     "output_type": "display_data"
    }
   ],
   "source": [
    "florida_30['Type'].value_counts(normalize=True).plot.bar()"
   ]
  },
  {
   "cell_type": "code",
   "execution_count": 7,
   "metadata": {},
   "outputs": [
    {
     "name": "stdout",
     "output_type": "stream",
     "text": [
      "Counts: \n",
      " Unprovoked      641\n",
      "Provoked         47\n",
      "Invalid          30\n",
      "Boat              5\n",
      "Unconfirmed       3\n",
      "Sea Disaster      1\n",
      "Name: Type, dtype: int64 \n",
      "\n",
      "Percentages: \n",
      " Unprovoked      88.170564\n",
      "Provoked         6.464924\n",
      "Invalid          4.126547\n",
      "Boat             0.687758\n",
      "Unconfirmed      0.412655\n",
      "Sea Disaster     0.137552\n",
      "Name: Type, dtype: float64\n"
     ]
    }
   ],
   "source": [
    "print('Counts:','\\n',florida_30['Type'].value_counts(), '\\n')\n",
    "print('Percentages:','\\n', florida_30['Type'].value_counts(normalize=True) * 100)"
   ]
  },
  {
   "cell_type": "markdown",
   "metadata": {},
   "source": [
    "Of the 1044 recorded shark attacks in Florida since 1990, 88% (641) were unprovoked attacks. Provoked attacks were attributed to about 6.5% (47) of the total. Let's see if there has been any trends in unprovoked vs provoked attacks over the last 30 years in Florida."
   ]
  },
  {
   "cell_type": "markdown",
   "metadata": {},
   "source": [
    "### Types of Attacks by Year Since 1990\n",
    "\n",
    "Now, we will look at the types of attacks by year since 1990. Are there more provoked attacks recently or are there any differences over the last 30 years? The first step will be to combine the types: Invalid, Boat, Unconfirmed, and Sea Disater. Those types will be replaced with 'Misc'."
   ]
  },
  {
   "cell_type": "code",
   "execution_count": 8,
   "metadata": {},
   "outputs": [
    {
     "data": {
      "text/html": [
       "<div>\n",
       "<style scoped>\n",
       "    .dataframe tbody tr th:only-of-type {\n",
       "        vertical-align: middle;\n",
       "    }\n",
       "\n",
       "    .dataframe tbody tr th {\n",
       "        vertical-align: top;\n",
       "    }\n",
       "\n",
       "    .dataframe thead th {\n",
       "        text-align: right;\n",
       "    }\n",
       "</style>\n",
       "<table border=\"1\" class=\"dataframe\">\n",
       "  <thead>\n",
       "    <tr style=\"text-align: right;\">\n",
       "      <th></th>\n",
       "      <th>Case Number</th>\n",
       "      <th>Date</th>\n",
       "      <th>Year</th>\n",
       "      <th>Type</th>\n",
       "      <th>Country</th>\n",
       "      <th>Area</th>\n",
       "      <th>Location</th>\n",
       "      <th>Activity</th>\n",
       "      <th>Name</th>\n",
       "      <th>Unnamed: 9</th>\n",
       "      <th>...</th>\n",
       "      <th>Injury</th>\n",
       "      <th>Fatal (Y/N)</th>\n",
       "      <th>Time</th>\n",
       "      <th>Species</th>\n",
       "      <th>Investigator or Source</th>\n",
       "      <th>pdf</th>\n",
       "      <th>Fatal</th>\n",
       "      <th>species</th>\n",
       "      <th>Species</th>\n",
       "      <th>Species ID</th>\n",
       "    </tr>\n",
       "  </thead>\n",
       "  <tbody>\n",
       "    <tr>\n",
       "      <th>20</th>\n",
       "      <td>2019.11.30.b</td>\n",
       "      <td>30-Nov-2019</td>\n",
       "      <td>2019</td>\n",
       "      <td>Unprovoked</td>\n",
       "      <td>USA</td>\n",
       "      <td>Florida</td>\n",
       "      <td>New Smyrna Beach, Volusia County</td>\n",
       "      <td>surfing</td>\n",
       "      <td>Chandler Moore</td>\n",
       "      <td>M</td>\n",
       "      <td>...</td>\n",
       "      <td>No injury, knocked from his board by the shark</td>\n",
       "      <td>N</td>\n",
       "      <td>NaN</td>\n",
       "      <td>Juvenile blacktip shark</td>\n",
       "      <td>NY Post, 12/2/2019</td>\n",
       "      <td>2019.11.30.b-Moore.pdf</td>\n",
       "      <td>0</td>\n",
       "      <td>['juvenile', 'blacktip', 'shark']</td>\n",
       "      <td>juvenile blacktip shark</td>\n",
       "      <td>blacktip shark</td>\n",
       "    </tr>\n",
       "    <tr>\n",
       "      <th>26</th>\n",
       "      <td>2019.11.12</td>\n",
       "      <td>11-Nov-2019</td>\n",
       "      <td>2019</td>\n",
       "      <td>Unprovoked</td>\n",
       "      <td>USA</td>\n",
       "      <td>Florida</td>\n",
       "      <td>Cocoa Beach, Brevard County</td>\n",
       "      <td>surfing</td>\n",
       "      <td>Miller</td>\n",
       "      <td>M</td>\n",
       "      <td>...</td>\n",
       "      <td>Lacerations to left foot</td>\n",
       "      <td>N</td>\n",
       "      <td>NaN</td>\n",
       "      <td>4' to 5' blacktip shark</td>\n",
       "      <td>K.McMurray, TrackingSharks.com</td>\n",
       "      <td>2019.11.12-Miller.pdf</td>\n",
       "      <td>0</td>\n",
       "      <td>['4', 'to', '5', 'blacktip', 'shark']</td>\n",
       "      <td>very long</td>\n",
       "      <td>TBD</td>\n",
       "    </tr>\n",
       "    <tr>\n",
       "      <th>31</th>\n",
       "      <td>2019.10.27</td>\n",
       "      <td>27-Oct-2019</td>\n",
       "      <td>2019</td>\n",
       "      <td>Provoked</td>\n",
       "      <td>USA</td>\n",
       "      <td>Florida</td>\n",
       "      <td>New Smyrna Beach, Volusia County</td>\n",
       "      <td>surfing</td>\n",
       "      <td>Stephen Michelena</td>\n",
       "      <td>NaN</td>\n",
       "      <td>...</td>\n",
       "      <td>Minor cuts when he jumped off his board and la...</td>\n",
       "      <td>N</td>\n",
       "      <td>12h45</td>\n",
       "      <td>4' to 5' shark</td>\n",
       "      <td>Kevin McMurray, TrackingSharks.com</td>\n",
       "      <td>NaN</td>\n",
       "      <td>0</td>\n",
       "      <td>['4', 'to', '5', 'shark']</td>\n",
       "      <td>4 to 5 shark</td>\n",
       "      <td>TBD</td>\n",
       "    </tr>\n",
       "  </tbody>\n",
       "</table>\n",
       "<p>3 rows × 21 columns</p>\n",
       "</div>"
      ],
      "text/plain": [
       "     Case Number         Date  Year        Type Country     Area  \\\n",
       "20  2019.11.30.b  30-Nov-2019  2019  Unprovoked     USA  Florida   \n",
       "26    2019.11.12  11-Nov-2019  2019  Unprovoked     USA  Florida   \n",
       "31    2019.10.27  27-Oct-2019  2019    Provoked     USA  Florida   \n",
       "\n",
       "                            Location Activity               Name Unnamed: 9  \\\n",
       "20  New Smyrna Beach, Volusia County  surfing     Chandler Moore          M   \n",
       "26       Cocoa Beach, Brevard County  surfing             Miller          M   \n",
       "31  New Smyrna Beach, Volusia County  surfing  Stephen Michelena        NaN   \n",
       "\n",
       "    ...                                             Injury Fatal (Y/N)   Time  \\\n",
       "20  ...     No injury, knocked from his board by the shark           N    NaN   \n",
       "26  ...                           Lacerations to left foot           N    NaN   \n",
       "31  ...  Minor cuts when he jumped off his board and la...           N  12h45   \n",
       "\n",
       "                   Species               Investigator or Source  \\\n",
       "20  Juvenile blacktip shark                  NY Post, 12/2/2019   \n",
       "26  4' to 5' blacktip shark      K.McMurray, TrackingSharks.com   \n",
       "31           4' to 5' shark  Kevin McMurray, TrackingSharks.com   \n",
       "\n",
       "                       pdf Fatal                                species  \\\n",
       "20  2019.11.30.b-Moore.pdf     0      ['juvenile', 'blacktip', 'shark']   \n",
       "26   2019.11.12-Miller.pdf     0  ['4', 'to', '5', 'blacktip', 'shark']   \n",
       "31                     NaN     0              ['4', 'to', '5', 'shark']   \n",
       "\n",
       "                    Species      Species ID  \n",
       "20  juvenile blacktip shark  blacktip shark  \n",
       "26                very long             TBD  \n",
       "31             4 to 5 shark             TBD  \n",
       "\n",
       "[3 rows x 21 columns]"
      ]
     },
     "execution_count": 8,
     "metadata": {},
     "output_type": "execute_result"
    }
   ],
   "source": [
    "# Isolating just the unprovoked and provoked attacks - ignoring the others\n",
    "prov = florida_30[(florida_30['Type'] == 'Provoked') | (florida_30['Type'] == 'Unprovoked')]\n",
    "prov.head(3)"
   ]
  },
  {
   "cell_type": "code",
   "execution_count": 9,
   "metadata": {},
   "outputs": [
    {
     "name": "stdout",
     "output_type": "stream",
     "text": [
      "{1991: 2, 1992: 1, 1994: 1, 1996: 1, 1998: 2, 1999: 1, 2001: 2, 2002: 4, 2003: 4, 2005: 2, 2006: 3, 2007: 2, 2008: 3, 2009: 2, 2010: 4, 2011: 1, 2012: 2, 2013: 3, 2014: 2, 2016: 2, 2018: 1, 2019: 2, 1990: 0, 1993: 0, 1995: 0, 1997: 0, 2000: 0, 2004: 0, 2015: 0, 2017: 0}\n",
      "{1990: 8, 1991: 8, 1992: 6, 1993: 8, 1994: 11, 1995: 24, 1996: 13, 1997: 21, 1998: 19, 1999: 20, 2000: 31, 2001: 35, 2002: 27, 2003: 38, 2004: 11, 2005: 19, 2006: 24, 2007: 33, 2008: 34, 2009: 17, 2010: 13, 2011: 15, 2012: 29, 2013: 24, 2014: 29, 2015: 28, 2016: 30, 2017: 33, 2018: 10, 2019: 23}\n"
     ]
    }
   ],
   "source": [
    "# Create a dictionary of the number of provoked attacks per year\n",
    "provs = prov[prov['Type'] == 'Provoked']\n",
    "provs = provs.groupby('Year')['Type'].count().to_dict()\n",
    "\n",
    "# Add the Years without any provoked attacks to the provoked dictionary to match the entries for unprovoked\n",
    "for i in range(1990, 2020):\n",
    "    if i not in provs.keys():\n",
    "        provs[i] = 0\n",
    "print(provs)\n",
    "\n",
    "# Create a dictionary of the number of unprovoked attacks per year\n",
    "unprovs = prov[prov['Type'] == 'Unprovoked']\n",
    "unprovs = unprovs.groupby('Year')['Type'].count().to_dict()\n",
    "print(unprovs)"
   ]
  },
  {
   "cell_type": "code",
   "execution_count": 10,
   "metadata": {},
   "outputs": [
    {
     "name": "stdout",
     "output_type": "stream",
     "text": [
      "Average # of Provoked Attacks: 1.57\n",
      "Average # of Unprovoked Attacks: 21.37\n"
     ]
    }
   ],
   "source": [
    "# Calculate the average number of unprovoked & provoked attacks since 1990\n",
    "avg_provs = sum(provs.values()) / len(provs)\n",
    "print('Average # of Provoked Attacks:',round(avg_provs, 2))\n",
    "\n",
    "avg_unprovs = sum(unprovs.values()) / len(unprovs)\n",
    "print('Average # of Unprovoked Attacks:',round(avg_unprovs,2))"
   ]
  },
  {
   "cell_type": "code",
   "execution_count": 11,
   "metadata": {},
   "outputs": [
    {
     "data": {
      "image/png": "[encoded data removed]",
      "text/plain": [
       "<Figure size 1008x432 with 1 Axes>"
      ]
     },
     "metadata": {
      "needs_background": "light"
     },
     "output_type": "display_data"
    }
   ],
   "source": [
    "# Create a custom legend for the provoked and unprovoked data\n",
    "from matplotlib.lines import Line2D\n",
    "custom_legend = [Line2D([0], [0], color='blue', lw=8, alpha=0.8),\n",
    "                Line2D([0], [0], color='red', lw=8, alpha=0.8)]\n",
    "\n",
    "fig, ax = plt.subplots(figsize=(14,6))\n",
    "plt.bar(unprovs.keys(), unprovs.values(), color = 'blue', alpha = 0.8, width = -0.4, align = 'edge')\n",
    "plt.bar(provs.keys(), provs.values(), color = 'red', alpha = 0.8, width = 0.4, align = 'edge')\n",
    "ax.set_xlabel(\"Year\",fontsize=14)\n",
    "ax.set_ylabel(\"Shark Attack Count\",fontsize=14)\n",
    "ax.set_xticks(range(1990,2020))\n",
    "plt.xticks(rotation=90)\n",
    "plt.axhline(avg_unprovs, linewidth=0.75, color='blue')\n",
    "plt.axhline(avg_provs, linewidth=0.75, color='red')\n",
    "ax.legend(custom_legend, ['Unprovoked', 'Provoked'], loc='upper left')\n",
    "ax.text(1989, 22, 'Avg Unprovoked', color='blue')\n",
    "ax.text(1985, 1.56, 'Avg Provoked', color='red')\n",
    "plt.title('# of Unprovoked & Provoked Shark Attaks in Florida Since 1990', fontsize=16)\n",
    "plt.show()"
   ]
  },
  {
   "cell_type": "markdown",
   "metadata": {},
   "source": [
    "The number of unprovoked shark attacks since 1990 in Florida is quite variable. The average number of unprovoked attacks is 21.37 and 1.57 for provoked attacks. The number of attacks is lowest during the early 1990's, then seems to go through a cycle of increasing then decreasing number of attacks. From this look, no major patterns are obvious, so we will now look at fatalities in Florida due to shark attacks."
   ]
  },
  {
   "cell_type": "markdown",
   "metadata": {},
   "source": [
    "### Fatalities in Florida due to Shark Attacks\n",
    "\n",
    "Now let's take a look at the shark attack fatalities in Florida since 1990."
   ]
  },
  {
   "cell_type": "code",
   "execution_count": 12,
   "metadata": {},
   "outputs": [
    {
     "name": "stdout",
     "output_type": "stream",
     "text": [
      "Fatality Count: \n",
      " 0    719\n",
      "1      8\n",
      "Name: Fatal, dtype: int64\n",
      "\n",
      "\n",
      "Fatality Percentage: \n",
      " 0    98.899587\n",
      "1     1.100413\n",
      "Name: Fatal, dtype: float64\n"
     ]
    }
   ],
   "source": [
    "# A few descriptive statistics for fatalities\n",
    "fatal_count = florida_30['Fatal'].value_counts()\n",
    "fatal_percent = florida_30['Fatal'].value_counts(normalize=True) * 100\n",
    "print('Fatality Count:', '\\n', fatal_count)\n",
    "print('\\n')\n",
    "print('Fatality Percentage:', '\\n', fatal_percent)"
   ]
  },
  {
   "cell_type": "markdown",
   "metadata": {},
   "source": [
    "Of the 727 shark attacks in Florida since 1990, only 8 (1.1%) were fatal to the human victim. That's good news for people going into the water in Florida. From the previous analysis, the USA had a fatality rate of about 6% since 1900. Before moving on to the human activities, let's compare Florida to some other states in terms of fatality."
   ]
  },
  {
   "cell_type": "markdown",
   "metadata": {},
   "source": [
    "#### Which US states have the most shark attacks and fatalities?"
   ]
  },
  {
   "cell_type": "code",
   "execution_count": 13,
   "metadata": {},
   "outputs": [
    {
     "data": {
      "text/plain": [
       "Florida              727\n",
       "Hawaii               186\n",
       "California           152\n",
       "South Carolina        97\n",
       "North Carolina        79\n",
       "Texas                 38\n",
       "Oregon                22\n",
       "Alabama                9\n",
       "Virginia               7\n",
       "Massachusetts          7\n",
       "New Jersey             6\n",
       "New York               5\n",
       "Georgia                5\n",
       "Puerto Rico            3\n",
       "Maryland               3\n",
       "Louisiana              3\n",
       "Rhode Island           2\n",
       "Guam                   2\n",
       "Delaware               2\n",
       "Palmyra Atoll          2\n",
       "Alaska                 1\n",
       "Maui                   1\n",
       "New Mexico             1\n",
       "Missouri               1\n",
       "Johnston Atoll         1\n",
       "Washington             1\n",
       "Kentucky               1\n",
       "US Virgin Islands      1\n",
       "Maine                  1\n",
       "Cayman Islands         1\n",
       "Mississippi            1\n",
       "Name: Area, dtype: int64"
      ]
     },
     "execution_count": 13,
     "metadata": {},
     "output_type": "execute_result"
    }
   ],
   "source": [
    "# Isolate the USA attacks since 1990\n",
    "usa = gsaf[gsaf['Country'] == 'USA']\n",
    "usa = usa[usa['Year'] >= 1990]\n",
    "usa['Area'].value_counts()"
   ]
  },
  {
   "cell_type": "markdown",
   "metadata": {},
   "source": [
    "Since 1990, Florida had over 700 recorded shark attacks. The second highest was 186 in Hawaii, and California followed with 152 attacks. For further analysis, we will only look at the top 7 states in terms of shark attacks (attacks >= 20)."
   ]
  },
  {
   "cell_type": "code",
   "execution_count": 14,
   "metadata": {
    "scrolled": false
   },
   "outputs": [
    {
     "name": "stdout",
     "output_type": "stream",
     "text": [
      "                 Area  Fatal  Count\n",
      "0             Alabama      0      9\n",
      "1              Alaska      0      1\n",
      "2          California      6    152\n",
      "3      Cayman Islands      0      1\n",
      "4            Delaware      0      2\n",
      "5             Florida      8    727\n",
      "6             Georgia      0      5\n",
      "7                Guam      0      2\n",
      "8              Hawaii     13    186\n",
      "9      Johnston Atoll      0      1\n",
      "10           Kentucky      0      1\n",
      "11          Louisiana      0      3\n",
      "12              Maine      0      1\n",
      "13           Maryland      1      3\n",
      "14      Massachusetts      0      7\n",
      "15               Maui      0      1\n",
      "16        Mississippi      0      1\n",
      "17           Missouri      0      1\n",
      "18         New Jersey      0      6\n",
      "19         New Mexico      0      1\n",
      "20           New York      0      5\n",
      "21     North Carolina      2     79\n",
      "22             Oregon      0     22\n",
      "23      Palmyra Atoll      0      2\n",
      "24        Puerto Rico      1      3\n",
      "25       Rhode Island      0      2\n",
      "26     South Carolina      1     97\n",
      "27              Texas      0     38\n",
      "28  US Virgin Islands      0      1\n",
      "29           Virginia      1      7\n",
      "30         Washington      0      1\n"
     ]
    }
   ],
   "source": [
    "# Create a fatality dataframe by state\n",
    "usa_fatal = usa.groupby('Area')['Fatal'].sum()\n",
    "usa_fatal_df = pd.DataFrame(usa_fatal)\n",
    "usa_fatal_df.columns = ['Fatal']\n",
    "usa_fatal_df.reset_index(inplace=True)\n",
    "\n",
    "# Create a count of incidents dataframe by state\n",
    "usa_count = usa.groupby('Area')['Fatal (Y/N)'].count()\n",
    "usa_count_df = pd.DataFrame(usa_count)\n",
    "usa_count_df.columns = ['Count']\n",
    "usa_count_df.reset_index(inplace=True)\n",
    "\n",
    "# Merge the fatality and count dataframes\n",
    "usa_fatal_df = pd.merge(usa_fatal_df, usa_count_df, how = 'left', on = 'Area')\n",
    "print(usa_fatal_df)"
   ]
  },
  {
   "cell_type": "code",
   "execution_count": 15,
   "metadata": {},
   "outputs": [
    {
     "name": "stdout",
     "output_type": "stream",
     "text": [
      "Avg Fatality Rate in the USA since 1990: 2.41 %\n"
     ]
    }
   ],
   "source": [
    "# Calculate the average fatality rate for the USA since 1990\n",
    "avg_usa_fatal = round(usa_fatal_df['Fatal'].sum() / usa_fatal_df['Count'].sum() * 100, 2)\n",
    "print('Avg Fatality Rate in the USA since 1990:', avg_usa_fatal,'%')"
   ]
  },
  {
   "cell_type": "code",
   "execution_count": 16,
   "metadata": {},
   "outputs": [
    {
     "name": "stdout",
     "output_type": "stream",
     "text": [
      "             Area  Fatal  Count\n",
      "0         Florida      8    727\n",
      "1          Hawaii     13    186\n",
      "2      California      6    152\n",
      "3  South Carolina      1     97\n",
      "4  North Carolina      2     79\n",
      "5           Texas      0     38\n",
      "6          Oregon      0     22\n"
     ]
    }
   ],
   "source": [
    "usa7 = usa_fatal_df.sort_values(by=['Count'], ascending=False, ignore_index=True)[:7]\n",
    "print(usa7)"
   ]
  },
  {
   "cell_type": "code",
   "execution_count": 17,
   "metadata": {},
   "outputs": [
    {
     "name": "stdout",
     "output_type": "stream",
     "text": [
      "             Area  Fatal  Count  Fatality Rate\n",
      "0         Florida      8    727           1.10\n",
      "1          Hawaii     13    186           6.99\n",
      "2      California      6    152           3.95\n",
      "3  South Carolina      1     97           1.03\n",
      "4  North Carolina      2     79           2.53\n",
      "5           Texas      0     38           0.00\n",
      "6          Oregon      0     22           0.00\n"
     ]
    }
   ],
   "source": [
    "# Calculate a Fatality Rate for the top 5 states\n",
    "usa7['Fatality Rate'] = round(usa7['Fatal'] / usa7['Count'] * 100, 2)\n",
    "print(usa7)"
   ]
  },
  {
   "cell_type": "markdown",
   "metadata": {},
   "source": [
    "Hawaii had the highest fatality rate since 1990 at nearly 7%. The next highest was California at about 4%. "
   ]
  },
  {
   "cell_type": "code",
   "execution_count": 18,
   "metadata": {},
   "outputs": [
    {
     "data": {
      "image/png": "[encoded data removed]",
      "text/plain": [
       "<Figure size 432x432 with 2 Axes>"
      ]
     },
     "metadata": {
      "needs_background": "light"
     },
     "output_type": "display_data"
    }
   ],
   "source": [
    "# Create a chart with the number of attacks and fatality rates for the top 20 countries\n",
    "usa7.sort_values(by=['Count'], ascending=True, inplace=True) # sorting to visualization purposes\n",
    "fig,ax = plt.subplots(figsize=(6,6))\n",
    "ax.barh(usa7['Area'], usa7['Fatality Rate'],color=\"red\", alpha=0.8, height=-0.4, align='edge')\n",
    "ax.set_xlabel(\"Fatality Rate (%)\",color=\"red\",fontsize=14)\n",
    "ax.set_ylabel(\"State\",fontsize=14)\n",
    "plt.axvline(avg_usa_fatal, linewidth=0.75, color='purple')\n",
    "ax.text(2.12, -0.35, 'Avg USA', color='purple', rotation=90)\n",
    "ax.text(2.5, -0.35, 'Fatality Rate', color='purple', rotation=90)\n",
    "ax2=ax.twiny()\n",
    "ax2.barh(usa7['Area'], usa7['Count'], color=\"blue\", alpha=0.8, height=0.4, align='edge')\n",
    "ax2.set_xlabel(\"# of Shark Attacks\",color=\"blue\",fontsize=14)\n",
    "plt.title('# of Shark Attacks and Fatality Rates by US State Since 1990', fontsize=16)\n",
    "plt.show()"
   ]
  },
  {
   "cell_type": "markdown",
   "metadata": {},
   "source": [
    "The original plan was to focus on Florida. After looking at the fatality data for the USA since 1990, it seems that it may be better to look at the top 5 states in terms of attacks and attempt to see if the species of shark matters to the fatality rate. Worldwide, Tiger Sharks and White Sharks had the highest fatality rates (around 24%), so we could expect that those two species of shark may be more common in attacks in Hawaii & California. "
   ]
  },
  {
   "cell_type": "markdown",
   "metadata": {},
   "source": [
    "### Shark Species Identified in Attacks in the Top 5 States with the Most Attacks"
   ]
  },
  {
   "cell_type": "code",
   "execution_count": 19,
   "metadata": {},
   "outputs": [
    {
     "data": {
      "text/plain": [
       "(1241, 21)"
      ]
     },
     "execution_count": 19,
     "metadata": {},
     "output_type": "execute_result"
    }
   ],
   "source": [
    "top5 = usa[(usa['Area'] == 'Florida') | (usa['Area'] == 'Hawaii') | (usa['Area'] == 'California') | \n",
    "           (usa['Area'] == 'South Carolina') | (usa['Area'] == 'North Carolina')]\n",
    "top5.shape"
   ]
  },
  {
   "cell_type": "code",
   "execution_count": 20,
   "metadata": {},
   "outputs": [
    {
     "data": {
      "text/plain": [
       "TBD                       1045\n",
       "tiger shark                 50\n",
       "white shark                 40\n",
       "bull shark                  27\n",
       "spinner shark               23\n",
       "blacktip shark              17\n",
       "nurse shark                 16\n",
       "lemon shark                  8\n",
       "hammerhead shark             5\n",
       "cookiecutter shark           2\n",
       "salmon shark                 2\n",
       "mako shark                   2\n",
       "oceanic whitetip shark       1\n",
       "galapagos shark              1\n",
       "sandbar shark                1\n",
       "thresher shark               1\n",
       "Name: Species ID, dtype: int64"
      ]
     },
     "execution_count": 20,
     "metadata": {},
     "output_type": "execute_result"
    }
   ],
   "source": [
    "top5['Species ID'].value_counts()"
   ]
  },
  {
   "cell_type": "code",
   "execution_count": 21,
   "metadata": {},
   "outputs": [
    {
     "data": {
      "text/plain": [
       "TBD                       84.206285\n",
       "tiger shark                4.029009\n",
       "white shark                3.223207\n",
       "bull shark                 2.175665\n",
       "spinner shark              1.853344\n",
       "blacktip shark             1.369863\n",
       "nurse shark                1.289283\n",
       "lemon shark                0.644641\n",
       "hammerhead shark           0.402901\n",
       "cookiecutter shark         0.161160\n",
       "salmon shark               0.161160\n",
       "mako shark                 0.161160\n",
       "oceanic whitetip shark     0.080580\n",
       "galapagos shark            0.080580\n",
       "sandbar shark              0.080580\n",
       "thresher shark             0.080580\n",
       "Name: Species ID, dtype: float64"
      ]
     },
     "execution_count": 21,
     "metadata": {},
     "output_type": "execute_result"
    }
   ],
   "source": [
    "top5['Species ID'].value_counts(normalize = True) * 100"
   ]
  },
  {
   "cell_type": "markdown",
   "metadata": {},
   "source": [
    "Of the 1241 recorded shark attack in the US since 1990, the shark species was not determined for 1045 (84%). There's very little actual data to go on regarding shark species, but we'll take a look at the species identified for fatalities in the dataset."
   ]
  },
  {
   "cell_type": "code",
   "execution_count": 22,
   "metadata": {},
   "outputs": [
    {
     "data": {
      "text/plain": [
       "TBD            25\n",
       "tiger shark     5\n",
       "Name: Species ID, dtype: int64"
      ]
     },
     "execution_count": 22,
     "metadata": {},
     "output_type": "execute_result"
    }
   ],
   "source": [
    "# Isolate the fatalities and non-TBD species\n",
    "species_fatal = top5[top5['Fatal'] == 1]\n",
    "species_fatal['Species ID'].value_counts()"
   ]
  },
  {
   "cell_type": "markdown",
   "metadata": {},
   "source": [
    "Of the 30 fatal attacks recorded since 1990 in the top 5 states, only 5 were attributed to a shark species. In all 5 cases, the shark species identified was the Tiger Shark. The sheer number of unknown (TBD) species and relatively few positively identified means we cannot say for certain why some states have a higher fatality rate than others. We can guess that the reason why Hawaii has the highest fatality rate (7%) is due to a higher number of attacks by Tiger Sharks. Knowing there are significant populations of white sharks off California, it's surprising that there were more attacks attributed to white sharks there and the fatality rate would have been higher. More accurate species identification would be beneficial to any further analysis of shark attacks by species."
   ]
  },
  {
   "cell_type": "markdown",
   "metadata": {},
   "source": [
    "### Activity of Human Victims in Florida Shark Attacks\n",
    "\n",
    "While very few shark attacks in Florida have been fatal, Florida does lead the US in the number of shark attacks. Let's take a look at the activities that the victims were doing while gettting attacked."
   ]
  },
  {
   "cell_type": "code",
   "execution_count": 23,
   "metadata": {},
   "outputs": [
    {
     "name": "stdout",
     "output_type": "stream",
     "text": [
      "surfing                       321\n",
      "swimming                       93\n",
      "wading                         86\n",
      "body boarding                  40\n",
      "unknown                        36\n",
      "                             ... \n",
      "fishing for snapper             1\n",
      "swimming, towing surfboard      1\n",
      "crawling                        1\n",
      "kite boarding                   1\n",
      "board sailing                   1\n",
      "Name: Activity, Length: 93, dtype: int64\n",
      "(727, 21)\n"
     ]
    }
   ],
   "source": [
    "print(florida_30['Activity'].value_counts())\n",
    "print(florida_30.shape)"
   ]
  },
  {
   "cell_type": "markdown",
   "metadata": {},
   "source": [
    "Unsurprisingly, surfing was, by far, the most common activity of shark attack victims in Florida since 1990, with 321 attacks. Swimming was the second most common with 93, and it was followed closely by wading with 86. Like the worldwide dataset, there are a lot of activities with low numbers that are similar and could be grouped together. Plus, there are others where a couple different activities are included, such as the \"swimming or paddle boarding\" and \"wading to shore after surfing\". How do we best account for those? Let's create a dictionary with all the entries for the Activity column."
   ]
  },
  {
   "cell_type": "code",
   "execution_count": 24,
   "metadata": {},
   "outputs": [
    {
     "name": "stdout",
     "output_type": "stream",
     "text": [
      "{'surfing': 321, 'swimming': 93, 'wading': 86, 'body boarding': 40, 'unknown': 36, 'fishing': 32, 'spearfishing': 14, 'snorkeling': 8, 'diving': 7, 'walking out of the water after surfing': 3, 'jet skiing': 2, 'jumping': 2, 'jumped into the water': 2, 'standing / surfing': 2, 'swimming / wading': 1, 'boogie boarding / wading': 1, 'swimming / boogie boarding': 1, 'surfing, fell off surfboard & stepped on the shark.': 1, 'wreck / technical diving': 1, 'walking in shallows': 1, 'standing alongside surfboard': 1, 'swimming / body surfing': 1, 'surfing, but standing in water alongside board': 1, 'surfing / wading': 1, 'playing in the surf with his 2 dogs': 1, 'attempting to illegally enter the usa': 1, 'spearfishing, holding mesh bag with speared fish': 1, 'fishing, removing the shark from his line': 1, 'floating on a raft': 1, 'boat': 1, 'swimming with dolphins': 1, 'fishing for tarpon': 1, 'wading to shore after surfing': 1, 'surfing, collided with shark': 1, 'swimming behind sailboat': 1, 'swimming from makeshift raft to life vest after fishing boat sank': 1, 'fisherman': 1, 'floating on his back': 1, 'freediving for seashells': 1, 'adrift on refugee raft': 1, 'surfing / swimming': 1, 'body surfing, stood up on sandbar': 1, 'wading / surfing': 1, 'floating on raft': 1, 'walking / surfing': 1, 'swimming or paddle boarding': 1, 'swimming / surfing': 1, 'splashing / wading': 1, 'adrift in a life jacket': 1, 'wading in school of baitfish': 1, 'petting captive sharks': 1, 'wading with surfboard': 1, 'wading, when he stepped on the shark': 1, 'swimming with boogie board': 1, 'swimming (using a float)': 1, 'sup': 1, 'playing in the surf': 1, 'casting a net': 1, 'body surfing or boogie boarding': 1, 'swimming after falling overboard': 1, 'photographing the shark': 1, 'attempting to rescue a shark': 1, 'photographing fish': 1, 'teasing a shark': 1, 'freediving': 1, 'lobstering': 1, 'surfng': 1, 'paddle boarding': 1, 'photo shoot': 1, 'feeding sharks': 1, 'skimboarding': 1, 'spearfishing / diving': 1, 'swimming or boogie boarding': 1, 'measuring sharks': 1, 'walking, carrying surfboard & stepped on shark': 1, 'shrimping': 1, 'swimming to shore from boat or kayak': 1, 'boogie boarding / swimming': 1, 'in water with diving seabirds': 1, \"crouching in 2' of water\": 1, 'treading water/ surfing': 1, 'diving / kissing the shark': 1, 'playing soccer in the water': 1, 'playing on a sandbar': 1, 'surf fishing / wading': 1, 'removing hook from shark': 1, 'floating near boat & observing bioluminesce': 1, 'wading?': 1, 'fishing for snapper': 1, 'swimming, towing surfboard': 1, 'crawling': 1, 'kite boarding': 1, 'board sailing': 1}\n"
     ]
    }
   ],
   "source": [
    "# Create a dictionary of the activities\n",
    "fl_act = florida_30['Activity'].value_counts().to_dict()\n",
    "print(fl_act)"
   ]
  },
  {
   "cell_type": "markdown",
   "metadata": {},
   "source": [
    "There are a lot of activities that are doubled up or have multiple types listed. For example, 'surfing / swimming'. Do we count each as a half or just pick one? From the dictionary, it looks like swimming, wading and fishing should have a few more entries, along with body boarding/boogie boarding. Since we are mostly concerned with trends and generalizations, we will loop through the list of most popular activities, extract the first match (based on popularity), then assign that activity. "
   ]
  },
  {
   "cell_type": "code",
   "execution_count": 25,
   "metadata": {},
   "outputs": [
    {
     "data": {
      "text/plain": [
       "surfing         333\n",
       "swimming        106\n",
       "wading           90\n",
       "misc             52\n",
       "bodyboarding     40\n",
       "unknown          36\n",
       "fishing          35\n",
       "spearfishing     15\n",
       "diving           10\n",
       "snorkeling        8\n",
       "freediving        2\n",
       "Name: Activity_Updated, dtype: int64"
      ]
     },
     "execution_count": 25,
     "metadata": {},
     "output_type": "execute_result"
    }
   ],
   "source": [
    "# Create list of top activities from the worldwide shark attack data analysis project\n",
    "act_list = ['surfing', 'swimming', 'fishing', 'unknown', 'spearfishing', 'wading', 'diving',\n",
    "            'bodyboarding', 'snorkeling', 'watercraft', 'freediving', 'windsurfing', \n",
    "            'paddle, boarding']\n",
    "\n",
    "# Make a new column by splitting the string in the activity column\n",
    "florida_30['Activity_Temp'] = florida_30['Activity'].str.replace('body ','body').str.replace('boogie ','boogie').str.replace('paddle ','paddle').str.split()\n",
    "\n",
    "# Function to loop through the common activities and look for matches\n",
    "def change_act(my_list):\n",
    "    for act in act_list:\n",
    "        if act in my_list:\n",
    "            return act\n",
    "    return 'misc'\n",
    "                                                                                                                                                  \n",
    "                                                                                                                                                  \n",
    "# Generate a new column with the updated activity after applying the change_act function\n",
    "florida_30['Activity_Updated'] = florida_30['Activity_Temp'].apply(change_act)\n",
    "florida_30['Activity_Updated'].value_counts()"
   ]
  },
  {
   "cell_type": "code",
   "execution_count": 26,
   "metadata": {},
   "outputs": [
    {
     "name": "stdout",
     "output_type": "stream",
     "text": [
      "surfing                                   44.15\n",
      "swimming                                  12.79\n",
      "wading                                    11.83\n",
      "body boarding                              5.50\n",
      "unknown                                    4.95\n",
      "fishing                                    4.40\n",
      "spearfishing                               1.93\n",
      "snorkeling                                 1.10\n",
      "diving                                     0.96\n",
      "walking out of the water after surfing     0.41\n",
      "Name: Activity, dtype: float64\n"
     ]
    }
   ],
   "source": [
    "# Print the 10 top original activities\n",
    "print(round(florida_30['Activity'].value_counts(normalize=True) * 100, 2)[:10])"
   ]
  },
  {
   "cell_type": "code",
   "execution_count": 27,
   "metadata": {},
   "outputs": [
    {
     "name": "stdout",
     "output_type": "stream",
     "text": [
      "surfing         45.80\n",
      "swimming        14.58\n",
      "wading          12.38\n",
      "misc             7.15\n",
      "bodyboarding     5.50\n",
      "unknown          4.95\n",
      "fishing          4.81\n",
      "spearfishing     2.06\n",
      "diving           1.38\n",
      "snorkeling       1.10\n",
      "freediving       0.28\n",
      "Name: Activity_Updated, dtype: float64\n"
     ]
    }
   ],
   "source": [
    "# Print the top updated activities\n",
    "print(round(florida_30['Activity_Updated'].value_counts(normalize=True) * 100, 2))"
   ]
  },
  {
   "cell_type": "markdown",
   "metadata": {},
   "source": [
    "After updating some of the activities based on the common activities from the worldwide shark attack analysis, there were some increases in the number of attacks on top 3 most common in Florida: surfing, swimming and wading. Combined, those 3 activities account for nearly 73% of the shark attacks in Florida since 1990. Of course, this is not too surprising given the number of people that go to the beach in Florida for those activities. We could probably combine swimming and wading since those activities are very similar. Likewise, combining surfing and body boarding would probably make sense."
   ]
  },
  {
   "cell_type": "markdown",
   "metadata": {},
   "source": [
    "### Summary\n",
    "\n",
    "The GSAF dataset provided another good review of data cleaning, analysis and visualization. This time focusing on attacks in the state of Florida. This dataset does have some disadvantages, such as the lack of metadata and non-standard responses for some categories (like human activity). Here is a quick rundown of the results of the analysis of shark attacks in Florida since 1990:\n",
    "\n",
    "1. Type of attack - approximately 88% (641) were unprovoked, with 6.5% (47) were identified as being a provoked incident. On average, there were approximately 21 unprovoked attacks annually in the US, whereas there were only 1.5 provoked attacks annually. In other words, the majority of shark attacks occur on unsuspecting humans.\n",
    "\n",
    "2. Fatalities - in Florida, approximately 1% of the shark attacks were fatal, compared to the 18% fatality rate from the worldwide dataset. For the United States only, Hawaii had the highest fatality rate at about 7%. California was the second highest with 4%. The average fatality rate for the US since 1990 was 2.4%. \n",
    "\n",
    "3. Shark species involved - given that the shark species data in this dataset is inconsistent, with a lot of unknowns, the data for shark species was analyzed for 5 states in the USA with the highest number of attacks. With 1241 recorded shark attack in the US since 1990, the shark species was not determined for 1045 (84%) of them. That left only 196 with a good identification of the shark species. Of the 30 fatal attacks recorded since 1990 in the top 5 states, only 5 were attributed to a shark species. In all 5 cases, it was a Tiger Shark. The sheer number of unknown (TBD) species and relatively few positively identified means we cannot say for certain why some states have a higher fatality rate than others.\n",
    "\n",
    "4. Human Activity - like the worldwide dataset, surfing was the most popular human activity documented Florida shark attacks, with over 330 occurrences (46%). Combined with surfing, swimming and wading accounted for nearly 73% of the recorded attacks. Not a surprising result, given the number of people that go to beaches every day in Florida. \n",
    "\n",
    "If there were more consistent responses for human activity and greater accuracy of shark species identification, we could conduct further analysis for determining where and why sharks attack humans. "
   ]
  }
 ],
 "metadata": {
  "kernelspec": {
   "display_name": "Python 3 (ipykernel)",
   "language": "python",
   "name": "python3"
  },
  "language_info": {
   "codemirror_mode": {
    "name": "ipython",
    "version": 3
   },
   "file_extension": ".py",
   "mimetype": "text/x-python",
   "name": "python",
   "nbconvert_exporter": "python",
   "pygments_lexer": "ipython3",
   "version": "3.8.12"
  }
 },
 "nbformat": 4,
 "nbformat_minor": 4
}
