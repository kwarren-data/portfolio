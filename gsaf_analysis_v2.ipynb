{
 "cells": [
  {
   "cell_type": "markdown",
   "metadata": {},
   "source": [
    "# Global Shark Attack File Analysis\n",
    "\n",
    "The Shark Research Institute (SRI) maintains a log of shark attacks worldwide, the Global Shark Attack File (GSAF). It is continually updated as new incidents occur, and was started in 1992 by the SRI. The purpose of the GSAF is to \"use forensic analysis to demonstrate and emphasize the likelihood of shark/human interactions in comparison to the myriad dangers that we face in our daily lives. With a better understanding of these interactions we can minimize the possibility of being injured by a shark, and shift the discussion from fear to conservation of all shark species worldwide\", per the SRI/GSAF website https://www.sharks.org/global-shark-attack-file)\n",
    "\n",
    "The current log file, in Excel form, can be downloaded from the \"chronoligically\" link at the site below:\n",
    "\n",
    "https://www.sharks.org/global-shark-attack-file\n",
    "\n",
    "The goal of this project to gain an understanding of the data, clean the data, and then analyze shark incidents worldwide. Some of the areas of interest in this project are type of incident (provoked or unprovoked), fatalities, the shark species involved and activity of the human."
   ]
  },
  {
   "cell_type": "code",
   "execution_count": 1,
   "metadata": {},
   "outputs": [],
   "source": [
    "# Import the needed modules\n",
    "import numpy as np\n",
    "import pandas as pd\n",
    "import matplotlib.pyplot as plt\n",
    "%matplotlib inline"
   ]
  },
  {
   "cell_type": "markdown",
   "metadata": {},
   "source": [
    "### Importing the data and general cleaning\n",
    "\n",
    "The shark attack data file viewed as an Excel file in Google Sheets, and was downloaded as a CSV file. We'll read it into pandas and start exploring the data."
   ]
  },
  {
   "cell_type": "code",
   "execution_count": 2,
   "metadata": {},
   "outputs": [
    {
     "data": {
      "text/html": [
       "<div>\n",
       "<style scoped>\n",
       "    .dataframe tbody tr th:only-of-type {\n",
       "        vertical-align: middle;\n",
       "    }\n",
       "\n",
       "    .dataframe tbody tr th {\n",
       "        vertical-align: top;\n",
       "    }\n",
       "\n",
       "    .dataframe thead th {\n",
       "        text-align: right;\n",
       "    }\n",
       "</style>\n",
       "<table border=\"1\" class=\"dataframe\">\n",
       "  <thead>\n",
       "    <tr style=\"text-align: right;\">\n",
       "      <th></th>\n",
       "      <th>Case Number</th>\n",
       "      <th>Date</th>\n",
       "      <th>Year</th>\n",
       "      <th>Type</th>\n",
       "      <th>Country</th>\n",
       "      <th>Area</th>\n",
       "      <th>Location</th>\n",
       "      <th>Activity</th>\n",
       "      <th>Name</th>\n",
       "      <th>Unnamed: 9</th>\n",
       "      <th>...</th>\n",
       "      <th>Species</th>\n",
       "      <th>Investigator or Source</th>\n",
       "      <th>pdf</th>\n",
       "      <th>href formula</th>\n",
       "      <th>href</th>\n",
       "      <th>Case Number.1</th>\n",
       "      <th>Case Number.2</th>\n",
       "      <th>original order</th>\n",
       "      <th>Unnamed: 22</th>\n",
       "      <th>Unnamed: 23</th>\n",
       "    </tr>\n",
       "  </thead>\n",
       "  <tbody>\n",
       "    <tr>\n",
       "      <th>0</th>\n",
       "      <td>2020.02.05</td>\n",
       "      <td>05-Feb-2020</td>\n",
       "      <td>2020.0</td>\n",
       "      <td>Unprovoked</td>\n",
       "      <td>USA</td>\n",
       "      <td>Maui</td>\n",
       "      <td>NaN</td>\n",
       "      <td>Stand-Up Paddle boarding</td>\n",
       "      <td>NaN</td>\n",
       "      <td>NaN</td>\n",
       "      <td>...</td>\n",
       "      <td>Tiger shark</td>\n",
       "      <td>K. McMurray, TrackingSharks.com</td>\n",
       "      <td>NaN</td>\n",
       "      <td>NaN</td>\n",
       "      <td>NaN</td>\n",
       "      <td>NaN</td>\n",
       "      <td>NaN</td>\n",
       "      <td>NaN</td>\n",
       "      <td>NaN</td>\n",
       "      <td>NaN</td>\n",
       "    </tr>\n",
       "    <tr>\n",
       "      <th>1</th>\n",
       "      <td>2020.01.30.R</td>\n",
       "      <td>Reported 30-Jan-2020</td>\n",
       "      <td>2020.0</td>\n",
       "      <td>Provoked</td>\n",
       "      <td>BAHAMAS</td>\n",
       "      <td>Exumas</td>\n",
       "      <td>NaN</td>\n",
       "      <td>Floating</td>\n",
       "      <td>Ana Bruna Avila</td>\n",
       "      <td>F</td>\n",
       "      <td>...</td>\n",
       "      <td>NaN</td>\n",
       "      <td>K. McMurray, TrackingSharks.com</td>\n",
       "      <td>NaN</td>\n",
       "      <td>NaN</td>\n",
       "      <td>NaN</td>\n",
       "      <td>NaN</td>\n",
       "      <td>NaN</td>\n",
       "      <td>NaN</td>\n",
       "      <td>NaN</td>\n",
       "      <td>NaN</td>\n",
       "    </tr>\n",
       "    <tr>\n",
       "      <th>2</th>\n",
       "      <td>2020.01.17</td>\n",
       "      <td>17-Jan-2020</td>\n",
       "      <td>2020.0</td>\n",
       "      <td>Unprovoked</td>\n",
       "      <td>AUSTRALIA</td>\n",
       "      <td>New South Wales</td>\n",
       "      <td>Windang Beach</td>\n",
       "      <td>Surfing</td>\n",
       "      <td>Will Schroeter</td>\n",
       "      <td>M</td>\n",
       "      <td>...</td>\n",
       "      <td>\"A small shark\"</td>\n",
       "      <td>B. Myatt &amp; M. Michaelson, GSAF; K. McMurray, T...</td>\n",
       "      <td>2020.01.17-Schroeter.pdf</td>\n",
       "      <td>http://sharkattackfile.net/spreadsheets/pdf_di...</td>\n",
       "      <td>http://sharkattackfile.net/spreadsheets/pdf_di...</td>\n",
       "      <td>2020.01.17</td>\n",
       "      <td>2020.01.17</td>\n",
       "      <td>6502.0</td>\n",
       "      <td>NaN</td>\n",
       "      <td>NaN</td>\n",
       "    </tr>\n",
       "    <tr>\n",
       "      <th>3</th>\n",
       "      <td>2020.01.16</td>\n",
       "      <td>16-Jan-2020</td>\n",
       "      <td>2020.0</td>\n",
       "      <td>Unprovoked</td>\n",
       "      <td>NEW ZEALAND</td>\n",
       "      <td>Southland</td>\n",
       "      <td>Oreti Beach</td>\n",
       "      <td>Surfing</td>\n",
       "      <td>Jordan King</td>\n",
       "      <td>F</td>\n",
       "      <td>...</td>\n",
       "      <td>Broadnose seven gill shark?</td>\n",
       "      <td>K. McMurray, TrackingSharks.com</td>\n",
       "      <td>2020.01.16-King.pdf</td>\n",
       "      <td>http://sharkattackfile.net/spreadsheets/pdf_di...</td>\n",
       "      <td>http://sharkattackfile.net/spreadsheets/pdf_di...</td>\n",
       "      <td>2020.01.16</td>\n",
       "      <td>2020.01.16</td>\n",
       "      <td>6501.0</td>\n",
       "      <td>NaN</td>\n",
       "      <td>NaN</td>\n",
       "    </tr>\n",
       "    <tr>\n",
       "      <th>4</th>\n",
       "      <td>2020.01.13</td>\n",
       "      <td>13-Jan-2020</td>\n",
       "      <td>2020.0</td>\n",
       "      <td>Unprovoked</td>\n",
       "      <td>USA</td>\n",
       "      <td>North Carolina</td>\n",
       "      <td>Rodanthe, Dare County</td>\n",
       "      <td>Surfing</td>\n",
       "      <td>Samuel Horne</td>\n",
       "      <td>M</td>\n",
       "      <td>...</td>\n",
       "      <td>NaN</td>\n",
       "      <td>C. Creswell, GSAF</td>\n",
       "      <td>2020.01.13-Horne.pdf</td>\n",
       "      <td>http://sharkattackfile.net/spreadsheets/pdf_di...</td>\n",
       "      <td>http://sharkattackfile.net/spreadsheets/pdf_di...</td>\n",
       "      <td>2020.01.13</td>\n",
       "      <td>2020.01.13</td>\n",
       "      <td>6500.0</td>\n",
       "      <td>NaN</td>\n",
       "      <td>NaN</td>\n",
       "    </tr>\n",
       "  </tbody>\n",
       "</table>\n",
       "<p>5 rows × 24 columns</p>\n",
       "</div>"
      ],
      "text/plain": [
       "    Case Number                  Date    Year        Type      Country  \\\n",
       "0    2020.02.05           05-Feb-2020  2020.0  Unprovoked          USA   \n",
       "1  2020.01.30.R  Reported 30-Jan-2020  2020.0    Provoked      BAHAMAS   \n",
       "2    2020.01.17           17-Jan-2020  2020.0  Unprovoked    AUSTRALIA   \n",
       "3    2020.01.16           16-Jan-2020  2020.0  Unprovoked  NEW ZEALAND   \n",
       "4    2020.01.13           13-Jan-2020  2020.0  Unprovoked          USA   \n",
       "\n",
       "              Area               Location                  Activity  \\\n",
       "0             Maui                    NaN  Stand-Up Paddle boarding   \n",
       "1           Exumas                    NaN                  Floating   \n",
       "2  New South Wales          Windang Beach                   Surfing   \n",
       "3        Southland            Oreti Beach                   Surfing   \n",
       "4   North Carolina  Rodanthe, Dare County                   Surfing   \n",
       "\n",
       "              Name Unnamed: 9  ...                     Species   \\\n",
       "0              NaN        NaN  ...                  Tiger shark   \n",
       "1  Ana Bruna Avila          F  ...                          NaN   \n",
       "2   Will Schroeter          M  ...              \"A small shark\"   \n",
       "3      Jordan King          F  ...  Broadnose seven gill shark?   \n",
       "4     Samuel Horne          M  ...                          NaN   \n",
       "\n",
       "                              Investigator or Source  \\\n",
       "0                    K. McMurray, TrackingSharks.com   \n",
       "1                    K. McMurray, TrackingSharks.com   \n",
       "2  B. Myatt & M. Michaelson, GSAF; K. McMurray, T...   \n",
       "3                    K. McMurray, TrackingSharks.com   \n",
       "4                                  C. Creswell, GSAF   \n",
       "\n",
       "                        pdf  \\\n",
       "0                       NaN   \n",
       "1                       NaN   \n",
       "2  2020.01.17-Schroeter.pdf   \n",
       "3       2020.01.16-King.pdf   \n",
       "4      2020.01.13-Horne.pdf   \n",
       "\n",
       "                                        href formula  \\\n",
       "0                                                NaN   \n",
       "1                                                NaN   \n",
       "2  http://sharkattackfile.net/spreadsheets/pdf_di...   \n",
       "3  http://sharkattackfile.net/spreadsheets/pdf_di...   \n",
       "4  http://sharkattackfile.net/spreadsheets/pdf_di...   \n",
       "\n",
       "                                                href Case Number.1  \\\n",
       "0                                                NaN           NaN   \n",
       "1                                                NaN           NaN   \n",
       "2  http://sharkattackfile.net/spreadsheets/pdf_di...    2020.01.17   \n",
       "3  http://sharkattackfile.net/spreadsheets/pdf_di...    2020.01.16   \n",
       "4  http://sharkattackfile.net/spreadsheets/pdf_di...    2020.01.13   \n",
       "\n",
       "  Case Number.2 original order Unnamed: 22 Unnamed: 23  \n",
       "0           NaN            NaN         NaN         NaN  \n",
       "1           NaN            NaN         NaN         NaN  \n",
       "2    2020.01.17         6502.0         NaN         NaN  \n",
       "3    2020.01.16         6501.0         NaN         NaN  \n",
       "4    2020.01.13         6500.0         NaN         NaN  \n",
       "\n",
       "[5 rows x 24 columns]"
      ]
     },
     "execution_count": 2,
     "metadata": {},
     "output_type": "execute_result"
    }
   ],
   "source": [
    "gsaf = pd.read_csv('/home/ken/my_datasets/GSAF/GSAF_25MAY2021.csv')\n",
    "gsaf.head()"
   ]
  },
  {
   "cell_type": "code",
   "execution_count": 3,
   "metadata": {},
   "outputs": [
    {
     "name": "stdout",
     "output_type": "stream",
     "text": [
      "<class 'pandas.core.frame.DataFrame'>\n",
      "RangeIndex: 6462 entries, 0 to 6461\n",
      "Data columns (total 24 columns):\n",
      " #   Column                  Non-Null Count  Dtype  \n",
      "---  ------                  --------------  -----  \n",
      " 0   Case Number             6460 non-null   object \n",
      " 1   Date                    6461 non-null   object \n",
      " 2   Year                    6459 non-null   float64\n",
      " 3   Type                    6457 non-null   object \n",
      " 4   Country                 6411 non-null   object \n",
      " 5   Area                    5999 non-null   object \n",
      " 6   Location                5917 non-null   object \n",
      " 7   Activity                5910 non-null   object \n",
      " 8   Name                    6247 non-null   object \n",
      " 9   Unnamed: 9              28 non-null     object \n",
      " 10  Age                     3591 non-null   object \n",
      " 11  Injury                  6433 non-null   object \n",
      " 12  Fatal (Y/N)             5915 non-null   object \n",
      " 13  Time                    3070 non-null   object \n",
      " 14  Species                 3538 non-null   object \n",
      " 15  Investigator or Source  6443 non-null   object \n",
      " 16  pdf                     3066 non-null   object \n",
      " 17  href formula            3062 non-null   object \n",
      " 18  href                    3062 non-null   object \n",
      " 19  Case Number.1           3062 non-null   object \n",
      " 20  Case Number.2           3062 non-null   object \n",
      " 21  original order          3062 non-null   float64\n",
      " 22  Unnamed: 22             0 non-null      float64\n",
      " 23  Unnamed: 23             2 non-null      object \n",
      "dtypes: float64(3), object(21)\n",
      "memory usage: 1.2+ MB\n"
     ]
    }
   ],
   "source": [
    "gsaf.info()"
   ]
  },
  {
   "cell_type": "markdown",
   "metadata": {},
   "source": [
    "There are 6262 entries in the dataset, and most columns do have some null/missing data. Not too surprising for this dataset, since there are often unknown/unverifiable circumstances regarding shark attacks. We'll start by removing several un-needed columns and then reviewing the Case Numbers, converting the year column to integer, type of attack, and country."
   ]
  },
  {
   "cell_type": "code",
   "execution_count": 4,
   "metadata": {},
   "outputs": [
    {
     "data": {
      "text/plain": [
       "Index(['Case Number', 'Date', 'Year', 'Type', 'Country', 'Area', 'Location',\n",
       "       'Activity', 'Name', 'Unnamed: 9', 'Age', 'Injury', 'Fatal (Y/N)',\n",
       "       'Time', 'Species ', 'Investigator or Source', 'pdf'],\n",
       "      dtype='object')"
      ]
     },
     "execution_count": 4,
     "metadata": {},
     "output_type": "execute_result"
    }
   ],
   "source": [
    "# Dropping columns that will not be used in this analysis\n",
    "gsaf.drop(columns = ['href formula','href', 'Case Number.1', 'Case Number.2', 'original order','Unnamed: 22',\n",
    "                     'Unnamed: 23'], inplace=True)\n",
    "gsaf.columns"
   ]
  },
  {
   "cell_type": "code",
   "execution_count": 5,
   "metadata": {},
   "outputs": [
    {
     "name": "stdout",
     "output_type": "stream",
     "text": [
      "     Case Number                  Date    Year      Type Country     Area  \\\n",
      "4087         NaN                   NaN     NaN       NaN     NaN      NaN   \n",
      "5646         NaN  Reported 06-Sep-1905  1905.0  Provoked     USA  Florida   \n",
      "\n",
      "                          Location Activity         Name Unnamed: 9  Age  \\\n",
      "4087                           NaN      NaN          NaN        NaN  NaN   \n",
      "5646  Fort Pierce, St Lucie County  Fishing  David Curry        NaN  NaN   \n",
      "\n",
      "                                                 Injury Fatal (Y/N) Time  \\\n",
      "4087                                                NaN         NaN  NaN   \n",
      "5646  Lacerations to leg from hooked shark PROVOKED ...           N  NaN   \n",
      "\n",
      "     Species           Investigator or Source  pdf  \n",
      "4087      NaN                             NaN  NaN  \n",
      "5646      NaN  Muncie Evening Press, 8/6/1913  NaN  \n"
     ]
    }
   ],
   "source": [
    "# There are a couple entries with missing Case Numbers, so let's isolate them and take a look.\n",
    "missing_cases = gsaf[gsaf['Case Number'].isnull() == True]\n",
    "print(missing_cases)"
   ]
  },
  {
   "cell_type": "code",
   "execution_count": 6,
   "metadata": {},
   "outputs": [
    {
     "name": "stdout",
     "output_type": "stream",
     "text": [
      "<class 'pandas.core.frame.DataFrame'>\n",
      "Int64Index: 6460 entries, 0 to 6461\n",
      "Data columns (total 17 columns):\n",
      " #   Column                  Non-Null Count  Dtype  \n",
      "---  ------                  --------------  -----  \n",
      " 0   Case Number             6460 non-null   object \n",
      " 1   Date                    6460 non-null   object \n",
      " 2   Year                    6458 non-null   float64\n",
      " 3   Type                    6456 non-null   object \n",
      " 4   Country                 6410 non-null   object \n",
      " 5   Area                    5998 non-null   object \n",
      " 6   Location                5916 non-null   object \n",
      " 7   Activity                5909 non-null   object \n",
      " 8   Name                    6246 non-null   object \n",
      " 9   Unnamed: 9              28 non-null     object \n",
      " 10  Age                     3591 non-null   object \n",
      " 11  Injury                  6432 non-null   object \n",
      " 12  Fatal (Y/N)             5914 non-null   object \n",
      " 13  Time                    3070 non-null   object \n",
      " 14  Species                 3538 non-null   object \n",
      " 15  Investigator or Source  6442 non-null   object \n",
      " 16  pdf                     3066 non-null   object \n",
      "dtypes: float64(1), object(16)\n",
      "memory usage: 908.4+ KB\n",
      "None\n"
     ]
    }
   ],
   "source": [
    "# Remove those two rows, since there doesn't appear to be much data to work with\n",
    "gsaf = gsaf[gsaf['Case Number'].isnull() == False]\n",
    "print(gsaf.info())"
   ]
  },
  {
   "cell_type": "code",
   "execution_count": 7,
   "metadata": {},
   "outputs": [
    {
     "data": {
      "text/plain": [
       "2015.0    143\n",
       "2017.0    138\n",
       "2016.0    130\n",
       "2011.0    128\n",
       "2014.0    127\n",
       "         ... \n",
       "1787.0      1\n",
       "1786.0      1\n",
       "1785.0      1\n",
       "1784.0      1\n",
       "1815.0      1\n",
       "Name: Year, Length: 252, dtype: int64"
      ]
     },
     "execution_count": 7,
     "metadata": {},
     "output_type": "execute_result"
    }
   ],
   "source": [
    "# Evaluate the Year column\n",
    "gsaf['Year'].value_counts()"
   ]
  },
  {
   "cell_type": "markdown",
   "metadata": {},
   "source": [
    "Upon further review of the Year column, there are some year ranges included and somewhat questionable entries. There are year values in the 1700s & 1800s, and even earlier. We will reduce the scope of the entries to 1900 to present day, based on the Year column, in order to keep the data to more of a modern era. "
   ]
  },
  {
   "cell_type": "code",
   "execution_count": 8,
   "metadata": {},
   "outputs": [
    {
     "name": "stdout",
     "output_type": "stream",
     "text": [
      "<class 'pandas.core.frame.DataFrame'>\n",
      "Int64Index: 5718 entries, 0 to 5721\n",
      "Data columns (total 17 columns):\n",
      " #   Column                  Non-Null Count  Dtype \n",
      "---  ------                  --------------  ----- \n",
      " 0   Case Number             5718 non-null   object\n",
      " 1   Date                    5718 non-null   object\n",
      " 2   Year                    5718 non-null   int64 \n",
      " 3   Type                    5715 non-null   object\n",
      " 4   Country                 5694 non-null   object\n",
      " 5   Area                    5398 non-null   object\n",
      " 6   Location                5338 non-null   object\n",
      " 7   Activity                5276 non-null   object\n",
      " 8   Name                    5547 non-null   object\n",
      " 9   Unnamed: 9              28 non-null     object\n",
      " 10  Age                     3498 non-null   object\n",
      " 11  Injury                  5699 non-null   object\n",
      " 12  Fatal (Y/N)             5248 non-null   object\n",
      " 13  Time                    2971 non-null   object\n",
      " 14  Species                 3354 non-null   object\n",
      " 15  Investigator or Source  5702 non-null   object\n",
      " 16  pdf                     3066 non-null   object\n",
      "dtypes: int64(1), object(16)\n",
      "memory usage: 804.1+ KB\n",
      "None\n"
     ]
    }
   ],
   "source": [
    "# Limiting the dataset from 1900 to the present & convert to integer\n",
    "gsaf = gsaf[gsaf['Year'] >= 1900]\n",
    "gsaf['Year'] = gsaf['Year'].astype(int)\n",
    "print(gsaf.info())"
   ]
  },
  {
   "cell_type": "markdown",
   "metadata": {},
   "source": [
    "The dataset is now at 5718 entries, and we'll look at the Type column which has 3 null values."
   ]
  },
  {
   "cell_type": "code",
   "execution_count": 9,
   "metadata": {},
   "outputs": [
    {
     "data": {
      "text/plain": [
       "Unprovoked             4163\n",
       "Provoked                557\n",
       "Invalid                 481\n",
       "Sea Disaster            186\n",
       "Watercraft              113\n",
       "Boat                    109\n",
       "Boating                  92\n",
       "Questionable             10\n",
       "Unconfirmed               1\n",
       "Unverified                1\n",
       "Under investigation       1\n",
       "Boatomg                   1\n",
       "Name: Type, dtype: int64"
      ]
     },
     "execution_count": 9,
     "metadata": {},
     "output_type": "execute_result"
    }
   ],
   "source": [
    "# Taking a look at the values for the Type column\n",
    "gsaf['Type'].value_counts()"
   ]
  },
  {
   "cell_type": "code",
   "execution_count": 10,
   "metadata": {},
   "outputs": [
    {
     "name": "stdout",
     "output_type": "stream",
     "text": [
      "       Case Number                  Date  Year Type    Country          Area  \\\n",
      "239   2017.09.15.a           15-Sep-2017  2017  NaN      SAMOA  Upolu Island   \n",
      "537     2015.07.27           27-Jul-2015  2015  NaN  AUSTRALIA      Victoria   \n",
      "5025  1936.09.11.R  Reported 11-Sep-1936  1936  NaN    VIETNAM           NaN   \n",
      "\n",
      "              Location           Activity    Name Unnamed: 9  Age  \\\n",
      "239          Nofoali’i            Fishing    male        NaN  NaN   \n",
      "537   Tyrendarra Beach            Surfing    male        NaN   40   \n",
      "5025            Saigon  Wreck of a sampam  8 crew        NaN  NaN   \n",
      "\n",
      "                          Injury Fatal (Y/N)   Time Species   \\\n",
      "239   Injuries to hands and legs           N  Night      NaN   \n",
      "537               Injury to hand         NaN    NaN      NaN   \n",
      "5025                       FATAL           Y    NaN      NaN   \n",
      "\n",
      "                Investigator or Source  pdf  \n",
      "239          Samoa Observer, 9/16/2017  NaN  \n",
      "537                                NaN  NaN  \n",
      "5025  Lansing State Journal, 9/11/1936  NaN  \n"
     ]
    }
   ],
   "source": [
    "# Identify the rows with nulls in the \"Type\" column\n",
    "missing_type = gsaf[gsaf['Type'].isnull() == True]\n",
    "print(missing_type)"
   ]
  },
  {
   "cell_type": "markdown",
   "metadata": {},
   "source": [
    "### Cleaning up the type of shark attacks\n",
    "\n",
    "First of all, what is an unprovoked attack versus a provoked attack? What about some of the other categories? \n",
    "\n",
    "Per the shark attack file website, https://www.sharkattackfile.net/incidentlog.htm, a provoked incident is \"one in which the shark was speared, hooked, captured or in which a human drew \"first blood\", Essentially, an unprovoked incident is one where the victim was not interacting with or actively pursuing a shark, such as a surfer being bit while sitting on a surfboard. A provoked incident is one where the victim was purposefully interacting with a shark, such as shark fishing or divers trying to touch a shark. \n",
    " \n",
    "Without specific metadata available from the GSAF website, it's unclear what some of these 'Types' refer to. For example, 'Invalid'? Not sure what that means, along with 'Boatomg', 'Unverified' and others. For this analysis, we will combine the following Types: 'Boat', 'Boating', 'Boatomg', and 'Watercraft'. They will all be changed to 'Boat'. Likewise, the 3 null values, plus 'Questionable', 'Unverified' and 'Under Investigation' will be combined with'Unconfirmed'."
   ]
  },
  {
   "cell_type": "code",
   "execution_count": 11,
   "metadata": {},
   "outputs": [
    {
     "data": {
      "text/plain": [
       "Unprovoked      4163\n",
       "Provoked         557\n",
       "Invalid          481\n",
       "Boat             315\n",
       "Sea Disaster     186\n",
       "Unconfirmed       16\n",
       "Name: Type, dtype: int64"
      ]
     },
     "execution_count": 11,
     "metadata": {},
     "output_type": "execute_result"
    }
   ],
   "source": [
    "# Replacing \"Type\" values with more general terms to combine the results\n",
    "gsaf['Type'].replace({'Boating':'Boat','Boatomg':'Boat', 'Watercraft':'Boat', 'Questionable':'Unconfirmed',\n",
    "                     'Under investigation':'Unconfirmed', 'Unverified':'Unconfirmed'}, inplace = True)\n",
    "# Replacing the null \"Type\" values with 'Unconfirmed' value\n",
    "gsaf['Type'].fillna('Unconfirmed', inplace = True)\n",
    "gsaf['Type'].value_counts()"
   ]
  },
  {
   "cell_type": "code",
   "execution_count": 12,
   "metadata": {},
   "outputs": [
    {
     "data": {
      "text/plain": [
       "Unprovoked      72.805177\n",
       "Provoked         9.741168\n",
       "Invalid          8.412032\n",
       "Boat             5.508919\n",
       "Sea Disaster     3.252886\n",
       "Unconfirmed      0.279818\n",
       "Name: Type, dtype: float64"
      ]
     },
     "execution_count": 12,
     "metadata": {},
     "output_type": "execute_result"
    }
   ],
   "source": [
    "# Calculate the percentage of each shark incident type\n",
    "gsaf['Type'].value_counts(normalize = True) * 100"
   ]
  },
  {
   "cell_type": "markdown",
   "metadata": {},
   "source": [
    "Per the type of shark incident since 1900, nearly 73% were unprovoked. Just under 10% were identified as being a provoked incident. Still unsure of the meaning of 'Invalid' is, but we can probably assume that those would be unknown/unconfirmed. Boat incidents with sharks were fairly rare, as were those from sea disasters."
   ]
  },
  {
   "cell_type": "code",
   "execution_count": 13,
   "metadata": {},
   "outputs": [
    {
     "data": {
      "image/png": "[encoded data removed]",
      "text/plain": [
       "<Figure size 432x288 with 1 Axes>"
      ]
     },
     "metadata": {
      "needs_background": "light"
     },
     "output_type": "display_data"
    }
   ],
   "source": [
    "plt.hist(gsaf['Type'])\n",
    "plt.show()"
   ]
  },
  {
   "cell_type": "markdown",
   "metadata": {},
   "source": [
    "### Fatalities since 1900\n",
    "\n",
    "Next we will look at the human fatalities from shark attacks since 1900. "
   ]
  },
  {
   "cell_type": "code",
   "execution_count": 14,
   "metadata": {},
   "outputs": [
    {
     "data": {
      "text/plain": [
       "N          4151\n",
       "Y          1038\n",
       "NaN         470\n",
       "UNKNOWN      55\n",
       "F             2\n",
       "M             1\n",
       "2017          1\n",
       "Name: Fatal (Y/N), dtype: int64"
      ]
     },
     "execution_count": 14,
     "metadata": {},
     "output_type": "execute_result"
    }
   ],
   "source": [
    "# Looking at the number of fatal incidents worldwide\n",
    "gsaf['Fatal (Y/N)'].value_counts(dropna=False)"
   ]
  },
  {
   "cell_type": "markdown",
   "metadata": {},
   "source": [
    "Once again, there seems to be some erroneous values in the \"Fatal\" column. Since it should be a yes (Y) or no (N) field. The top 2 values are as they should be (Y or N). However, the 4 values that are shown as \"F\", \"2017\" and \"M\" are problematic. We could assume that the \"F\" and \"M\" are for a female or male that was fatally attacked, but we just don't know. We'll print out the rows for these 4 to see if anything stands out. If anything, we can change them to \"UNKNOWN\". "
   ]
  },
  {
   "cell_type": "code",
   "execution_count": 15,
   "metadata": {},
   "outputs": [
    {
     "name": "stdout",
     "output_type": "stream",
     "text": [
      "     Year         Type           Country  \\\n",
      "17   2019  Unconfirmed    REUNION ISLAND   \n",
      "22   2019  Unconfirmed         AUSTRALIA   \n",
      "440  2016     Provoked  FRENCH POLYNESIA   \n",
      "941  2012     Provoked             ITALY   \n",
      "\n",
      "                                            Activity  \\\n",
      "17                                          Kayaking   \n",
      "22                                      Spearfishing   \n",
      "440                                     Spearfishing   \n",
      "941  Attempting to rescue an injured & beached shark   \n",
      "\n",
      "                                                Injury Fatal (Y/N)  \n",
      "17     Partial remains recovered 12/26/2019 from shark           F  \n",
      "22   Believed to have drowned. Partial remains wash...           F  \n",
      "440  Laceration to knee by speared shark PROVOKED I...           M  \n",
      "941           Lower left leg injured PROVOKED ACCIDENT        2017  \n"
     ]
    }
   ],
   "source": [
    "# Identify the rows with nuls in the \"Type\" column\n",
    "bad_fatal = gsaf[(gsaf['Fatal (Y/N)'] == 'F') | (gsaf['Fatal (Y/N)'] == '2017') | (gsaf['Fatal (Y/N)'] == 'M')]\n",
    "print(bad_fatal[['Year', 'Type', 'Country', 'Activity', 'Injury', 'Fatal (Y/N)']])"
   ]
  },
  {
   "cell_type": "markdown",
   "metadata": {},
   "source": [
    "For these 4 incidents, it looks like two may have been fatal (though row 22 states that the victim believed to have drown) and two were non-fatal. We will change row 17 to \"Y\", 22 to \"UNKNOWN\" since the victim may not have been killed by a shark, and 440 & 941 to \"N\". Also, we will change the 470 null values to \"UNKNOWN\"."
   ]
  },
  {
   "cell_type": "code",
   "execution_count": 16,
   "metadata": {},
   "outputs": [
    {
     "data": {
      "text/plain": [
       "N          4153\n",
       "Y          1039\n",
       "UNKNOWN     526\n",
       "Name: Fatal (Y/N), dtype: int64"
      ]
     },
     "execution_count": 16,
     "metadata": {},
     "output_type": "execute_result"
    }
   ],
   "source": [
    "gsaf['Fatal (Y/N)'].replace({'2017':'N','M':'N'}, inplace = True)\n",
    "gsaf.at[17, 'Fatal (Y/N)'] = 'Y'\n",
    "gsaf.at[22, 'Fatal (Y/N)'] = 'UNKNOWN'\n",
    "gsaf['Fatal (Y/N)'].fillna('UNKNOWN', inplace = True)\n",
    "gsaf['Fatal (Y/N)'].value_counts(dropna=False)"
   ]
  },
  {
   "cell_type": "code",
   "execution_count": 17,
   "metadata": {},
   "outputs": [
    {
     "data": {
      "image/png": "[encoded data removed]",
      "text/plain": [
       "<Figure size 432x288 with 1 Axes>"
      ]
     },
     "metadata": {
      "needs_background": "light"
     },
     "output_type": "display_data"
    }
   ],
   "source": [
    "plt.hist(gsaf['Fatal (Y/N)'])\n",
    "plt.show()"
   ]
  },
  {
   "cell_type": "code",
   "execution_count": 18,
   "metadata": {
    "scrolled": true
   },
   "outputs": [
    {
     "data": {
      "text/plain": [
       "N          0.726303\n",
       "Y          0.181707\n",
       "UNKNOWN    0.091990\n",
       "Name: Fatal (Y/N), dtype: float64"
      ]
     },
     "execution_count": 18,
     "metadata": {},
     "output_type": "execute_result"
    }
   ],
   "source": [
    "gsaf['Fatal (Y/N)'].value_counts(normalize = True)"
   ]
  },
  {
   "cell_type": "markdown",
   "metadata": {},
   "source": [
    "Since 1900, approximately 18% of shark attacks have been fatal, according to the GSAF dataset. Nearly 73% were non-fatal, with about 9% being unknown. The fatality rate seems to be higher that I would have epxected, such as around 10%. Let's see if fatality rate is dependent upon the country."
   ]
  },
  {
   "cell_type": "markdown",
   "metadata": {},
   "source": [
    "### Fatalities by Country\n",
    "\n",
    "Do certain countries have a higher fatality occurrence than others? We'll explore the fatalities of the top 20 countries in total shark attacks.\n",
    "\n",
    "We will start by making a new column, named 'Fatal' and fill it with a 1, if fatal, and a 0 if non-fatal or unknown. It's tempting to make about 20% of the unknown fatality as being fatal, but unless we review the data line by line in more detail, we won't be able to accurately identify which of the 526 unknowns should be marked as fatal. Therefore, we will slightly underestimate the fatalities based on assigning all the unknowns as non-fatal."
   ]
  },
  {
   "cell_type": "code",
   "execution_count": 19,
   "metadata": {
    "scrolled": true
   },
   "outputs": [
    {
     "name": "stdout",
     "output_type": "stream",
     "text": [
      "0    0\n",
      "1    0\n",
      "2    0\n",
      "3    0\n",
      "4    0\n",
      "5    0\n",
      "6    0\n",
      "7    1\n",
      "8    0\n",
      "9    1\n",
      "Name: Fatal, dtype: int64\n"
     ]
    }
   ],
   "source": [
    "# Make a new column and map a 'Y' from Fatal to 1 and 'N' & 'UNKNOWN' to 0\n",
    "gsaf['Fatal'] = gsaf['Fatal (Y/N)'].map({'Y':1, 'N':0, 'UNKNOWN':0})\n",
    "print(gsaf['Fatal'].head(10))"
   ]
  },
  {
   "cell_type": "code",
   "execution_count": 20,
   "metadata": {},
   "outputs": [
    {
     "data": {
      "text/plain": [
       "0    4679\n",
       "1    1039\n",
       "Name: Fatal, dtype: int64"
      ]
     },
     "execution_count": 20,
     "metadata": {},
     "output_type": "execute_result"
    }
   ],
   "source": [
    "# Verify the counts on the new 'Fatal' column are correct\n",
    "gsaf['Fatal'].value_counts()"
   ]
  },
  {
   "cell_type": "markdown",
   "metadata": {},
   "source": [
    "The new 'Fatal' column has the correct number of fatalities, at 1039. Adding the original non-fatalities (4153) and unknowns (526) from the original 'Fatal (Y/N)' column, we get the same number as the new column (4679)."
   ]
  },
  {
   "cell_type": "code",
   "execution_count": 21,
   "metadata": {},
   "outputs": [
    {
     "name": "stdout",
     "output_type": "stream",
     "text": [
      "                        Country  Fatal  Count\n",
      "0             ADMIRALTY ISLANDS      0      1\n",
      "1                AMERICAN SAMOA      3      3\n",
      "2    ANDAMAN / NICOBAR ISLANDAS      1      1\n",
      "3                        ANGOLA      0      1\n",
      "4                       ANTIGUA      0      1\n",
      "..                          ...    ...    ...\n",
      "167                     VANUATU      7     11\n",
      "168                   VENEZUELA      3      9\n",
      "169                     VIETNAM      1     12\n",
      "170               WESTERN SAMOA      1      1\n",
      "171                       YEMEN      2      4\n",
      "\n",
      "[172 rows x 3 columns]\n"
     ]
    }
   ],
   "source": [
    "# Create a fatality dataframe by country\n",
    "fatal = gsaf.groupby('Country')['Fatal'].sum()\n",
    "fatal_df = pd.DataFrame(fatal)\n",
    "fatal_df.columns = ['Fatal']\n",
    "fatal_df.reset_index(inplace=True)\n",
    "\n",
    "# Create a count of incidents dataframe by country\n",
    "count = gsaf.groupby('Country')['Fatal (Y/N)'].count()\n",
    "count_df = pd.DataFrame(count)\n",
    "count_df.columns = ['Count']\n",
    "count_df.reset_index(inplace=True)\n",
    "\n",
    "# Merge the fatality and count dataframes\n",
    "fatal_df = pd.merge(fatal_df, count_df, how = 'left', on = 'Country')\n",
    "print(fatal_df)"
   ]
  },
  {
   "cell_type": "code",
   "execution_count": 22,
   "metadata": {
    "scrolled": true
   },
   "outputs": [
    {
     "name": "stdout",
     "output_type": "stream",
     "text": [
      "                        Country  Fatal  Count  Fatality Rate\n",
      "0             ADMIRALTY ISLANDS      0      1           0.00\n",
      "1                AMERICAN SAMOA      3      3         100.00\n",
      "2    ANDAMAN / NICOBAR ISLANDAS      1      1         100.00\n",
      "3                        ANGOLA      0      1           0.00\n",
      "4                       ANTIGUA      0      1           0.00\n",
      "..                          ...    ...    ...            ...\n",
      "167                     VANUATU      7     11          63.64\n",
      "168                   VENEZUELA      3      9          33.33\n",
      "169                     VIETNAM      1     12           8.33\n",
      "170               WESTERN SAMOA      1      1         100.00\n",
      "171                       YEMEN      2      4          50.00\n",
      "\n",
      "[172 rows x 4 columns]\n"
     ]
    }
   ],
   "source": [
    "# Calcualate a fatility rate by country\n",
    "fatal_df['Fatality Rate'] = round((fatal_df['Fatal'] / fatal_df['Count']) * 100, 2)\n",
    "print(fatal_df)"
   ]
  },
  {
   "cell_type": "code",
   "execution_count": 23,
   "metadata": {
    "scrolled": true
   },
   "outputs": [
    {
     "name": "stdout",
     "output_type": "stream",
     "text": [
      "             Country  Fatal  Count  Fatality Rate\n",
      "0                USA    133   2161           6.15\n",
      "1          AUSTRALIA    222   1216          18.26\n",
      "2       SOUTH AFRICA     87    555          15.68\n",
      "3   PAPUA NEW GUINEA     55    131          41.98\n",
      "4             BRAZIL     35    109          32.11\n",
      "5            BAHAMAS      6    106           5.66\n",
      "6        NEW ZEALAND     12    104          11.54\n",
      "7             MEXICO     36     84          42.86\n",
      "8              ITALY      9     61          14.75\n",
      "9        PHILIPPINES     33     58          56.90\n",
      "10           REUNION     28     58          48.28\n",
      "11     NEW CALEDONIA     17     54          31.48\n",
      "12              FIJI     18     50          36.00\n",
      "13        MOZAMBIQUE     18     41          43.90\n",
      "14             EGYPT     10     34          29.41\n",
      "15             SPAIN      3     33           9.09\n",
      "16              CUBA     14     31          45.16\n",
      "17             JAPAN     10     31          32.26\n",
      "18            PANAMA     13     27          48.15\n",
      "19           CROATIA     14     27          51.85\n"
     ]
    }
   ],
   "source": [
    "# Isolate the top 20 countries based on the shark incident count\n",
    "top20 = fatal_df.sort_values(by=['Count'], ascending=False, ignore_index=True)[:20]\n",
    "print(top20)"
   ]
  },
  {
   "cell_type": "code",
   "execution_count": 24,
   "metadata": {},
   "outputs": [
    {
     "data": {
      "text/html": [
       "<div>\n",
       "<style scoped>\n",
       "    .dataframe tbody tr th:only-of-type {\n",
       "        vertical-align: middle;\n",
       "    }\n",
       "\n",
       "    .dataframe tbody tr th {\n",
       "        vertical-align: top;\n",
       "    }\n",
       "\n",
       "    .dataframe thead th {\n",
       "        text-align: right;\n",
       "    }\n",
       "</style>\n",
       "<table border=\"1\" class=\"dataframe\">\n",
       "  <thead>\n",
       "    <tr style=\"text-align: right;\">\n",
       "      <th></th>\n",
       "      <th>Country</th>\n",
       "      <th>Fatal</th>\n",
       "      <th>Count</th>\n",
       "      <th>Fatality Rate</th>\n",
       "    </tr>\n",
       "  </thead>\n",
       "  <tbody>\n",
       "    <tr>\n",
       "      <th>9</th>\n",
       "      <td>PHILIPPINES</td>\n",
       "      <td>33</td>\n",
       "      <td>58</td>\n",
       "      <td>56.90</td>\n",
       "    </tr>\n",
       "    <tr>\n",
       "      <th>19</th>\n",
       "      <td>CROATIA</td>\n",
       "      <td>14</td>\n",
       "      <td>27</td>\n",
       "      <td>51.85</td>\n",
       "    </tr>\n",
       "    <tr>\n",
       "      <th>10</th>\n",
       "      <td>REUNION</td>\n",
       "      <td>28</td>\n",
       "      <td>58</td>\n",
       "      <td>48.28</td>\n",
       "    </tr>\n",
       "    <tr>\n",
       "      <th>18</th>\n",
       "      <td>PANAMA</td>\n",
       "      <td>13</td>\n",
       "      <td>27</td>\n",
       "      <td>48.15</td>\n",
       "    </tr>\n",
       "    <tr>\n",
       "      <th>16</th>\n",
       "      <td>CUBA</td>\n",
       "      <td>14</td>\n",
       "      <td>31</td>\n",
       "      <td>45.16</td>\n",
       "    </tr>\n",
       "    <tr>\n",
       "      <th>13</th>\n",
       "      <td>MOZAMBIQUE</td>\n",
       "      <td>18</td>\n",
       "      <td>41</td>\n",
       "      <td>43.90</td>\n",
       "    </tr>\n",
       "    <tr>\n",
       "      <th>7</th>\n",
       "      <td>MEXICO</td>\n",
       "      <td>36</td>\n",
       "      <td>84</td>\n",
       "      <td>42.86</td>\n",
       "    </tr>\n",
       "    <tr>\n",
       "      <th>3</th>\n",
       "      <td>PAPUA NEW GUINEA</td>\n",
       "      <td>55</td>\n",
       "      <td>131</td>\n",
       "      <td>41.98</td>\n",
       "    </tr>\n",
       "    <tr>\n",
       "      <th>12</th>\n",
       "      <td>FIJI</td>\n",
       "      <td>18</td>\n",
       "      <td>50</td>\n",
       "      <td>36.00</td>\n",
       "    </tr>\n",
       "    <tr>\n",
       "      <th>17</th>\n",
       "      <td>JAPAN</td>\n",
       "      <td>10</td>\n",
       "      <td>31</td>\n",
       "      <td>32.26</td>\n",
       "    </tr>\n",
       "    <tr>\n",
       "      <th>4</th>\n",
       "      <td>BRAZIL</td>\n",
       "      <td>35</td>\n",
       "      <td>109</td>\n",
       "      <td>32.11</td>\n",
       "    </tr>\n",
       "    <tr>\n",
       "      <th>11</th>\n",
       "      <td>NEW CALEDONIA</td>\n",
       "      <td>17</td>\n",
       "      <td>54</td>\n",
       "      <td>31.48</td>\n",
       "    </tr>\n",
       "    <tr>\n",
       "      <th>14</th>\n",
       "      <td>EGYPT</td>\n",
       "      <td>10</td>\n",
       "      <td>34</td>\n",
       "      <td>29.41</td>\n",
       "    </tr>\n",
       "    <tr>\n",
       "      <th>1</th>\n",
       "      <td>AUSTRALIA</td>\n",
       "      <td>222</td>\n",
       "      <td>1216</td>\n",
       "      <td>18.26</td>\n",
       "    </tr>\n",
       "    <tr>\n",
       "      <th>2</th>\n",
       "      <td>SOUTH AFRICA</td>\n",
       "      <td>87</td>\n",
       "      <td>555</td>\n",
       "      <td>15.68</td>\n",
       "    </tr>\n",
       "    <tr>\n",
       "      <th>8</th>\n",
       "      <td>ITALY</td>\n",
       "      <td>9</td>\n",
       "      <td>61</td>\n",
       "      <td>14.75</td>\n",
       "    </tr>\n",
       "    <tr>\n",
       "      <th>6</th>\n",
       "      <td>NEW ZEALAND</td>\n",
       "      <td>12</td>\n",
       "      <td>104</td>\n",
       "      <td>11.54</td>\n",
       "    </tr>\n",
       "    <tr>\n",
       "      <th>15</th>\n",
       "      <td>SPAIN</td>\n",
       "      <td>3</td>\n",
       "      <td>33</td>\n",
       "      <td>9.09</td>\n",
       "    </tr>\n",
       "    <tr>\n",
       "      <th>0</th>\n",
       "      <td>USA</td>\n",
       "      <td>133</td>\n",
       "      <td>2161</td>\n",
       "      <td>6.15</td>\n",
       "    </tr>\n",
       "    <tr>\n",
       "      <th>5</th>\n",
       "      <td>BAHAMAS</td>\n",
       "      <td>6</td>\n",
       "      <td>106</td>\n",
       "      <td>5.66</td>\n",
       "    </tr>\n",
       "  </tbody>\n",
       "</table>\n",
       "</div>"
      ],
      "text/plain": [
       "             Country  Fatal  Count  Fatality Rate\n",
       "9        PHILIPPINES     33     58          56.90\n",
       "19           CROATIA     14     27          51.85\n",
       "10           REUNION     28     58          48.28\n",
       "18            PANAMA     13     27          48.15\n",
       "16              CUBA     14     31          45.16\n",
       "13        MOZAMBIQUE     18     41          43.90\n",
       "7             MEXICO     36     84          42.86\n",
       "3   PAPUA NEW GUINEA     55    131          41.98\n",
       "12              FIJI     18     50          36.00\n",
       "17             JAPAN     10     31          32.26\n",
       "4             BRAZIL     35    109          32.11\n",
       "11     NEW CALEDONIA     17     54          31.48\n",
       "14             EGYPT     10     34          29.41\n",
       "1          AUSTRALIA    222   1216          18.26\n",
       "2       SOUTH AFRICA     87    555          15.68\n",
       "8              ITALY      9     61          14.75\n",
       "6        NEW ZEALAND     12    104          11.54\n",
       "15             SPAIN      3     33           9.09\n",
       "0                USA    133   2161           6.15\n",
       "5            BAHAMAS      6    106           5.66"
      ]
     },
     "execution_count": 24,
     "metadata": {},
     "output_type": "execute_result"
    }
   ],
   "source": [
    "top20.sort_values(by=['Fatality Rate'], ascending=False)"
   ]
  },
  {
   "cell_type": "code",
   "execution_count": 25,
   "metadata": {
    "scrolled": true
   },
   "outputs": [
    {
     "data": {
      "image/png": "[encoded data removed]",
      "text/plain": [
       "<Figure size 648x648 with 2 Axes>"
      ]
     },
     "metadata": {
      "needs_background": "light"
     },
     "output_type": "display_data"
    }
   ],
   "source": [
    "# Create a chart with the number of attacks and fatality rates for the top 20 countries\n",
    "top20.sort_values(by=['Count'], ascending=True, inplace=True) # sorting to visualization purposes\n",
    "fig,ax = plt.subplots(figsize=(9,9))\n",
    "ax.barh(top20['Country'], top20['Fatality Rate'],color=\"red\", alpha=0.8, height=-0.4, align='edge')\n",
    "ax.set_xlabel(\"Fatality Rate (%)\",color=\"red\",fontsize=14)\n",
    "ax.set_ylabel(\"Country\",fontsize=14)\n",
    "ax2=ax.twiny()\n",
    "ax2.barh(top20['Country'], top20['Count'], color=\"blue\", alpha=0.8, height=0.4, align='edge')\n",
    "ax2.set_xlabel(\"# of Shark Attacks\",color=\"blue\",fontsize=14)\n",
    "plt.title('# of Shark Attacks and Fatality Rates by Country', fontsize=16)\n",
    "plt.show()\n"
   ]
  },
  {
   "cell_type": "markdown",
   "metadata": {},
   "source": [
    "Of the top 20 countries in terms of number of recorded attacks, the Philippines (58 attacks) had the highest fatality rate at about 57%, followed by Croatia (52%) and Reunion Island & Panama (48%). The Bahamas, with 106 attacks, had the lowest fatality rate at under 6%. With the highest number of attacks (2161), the USA had the second lowest fatality rate at just over 6%. Australia had the second highest number of attacks (1216) and a fatality rate of approximately the worldwide average of 18%. \n",
    "\n",
    "An interesting observation from this dataset is that India is not listed as one of the top 20 countries with recorded shark attacks. The combination of a high population and large amount of coastal areas in a warmer climate suggests that the number of attacks in India should be relatively high. Additionally, only 3 countries from Africa are in the top 20 - South Africa (555), Mozambique (41), and Egypt(34). Similar to India, it would be expected that a few other countries from Africa could be on this list. The expectation is that shark attacks in those areas are probably under reported."
   ]
  },
  {
   "cell_type": "markdown",
   "metadata": {},
   "source": [
    "### Shark Species Involvement\n",
    "At a first glance, the GSAF dataset had quite a variety of values in the shark species column. Let's look to see if there are any patterns. First, we'll take a look at the data for South Africa, since there have been over 500 attacks recorded and about a 16% fatality rate."
   ]
  },
  {
   "cell_type": "code",
   "execution_count": 26,
   "metadata": {},
   "outputs": [
    {
     "name": "stdout",
     "output_type": "stream",
     "text": [
      "<class 'pandas.core.frame.DataFrame'>\n",
      "Int64Index: 555 entries, 13 to 5721\n",
      "Data columns (total 18 columns):\n",
      " #   Column                  Non-Null Count  Dtype \n",
      "---  ------                  --------------  ----- \n",
      " 0   Case Number             555 non-null    object\n",
      " 1   Date                    555 non-null    object\n",
      " 2   Year                    555 non-null    int64 \n",
      " 3   Type                    555 non-null    object\n",
      " 4   Country                 555 non-null    object\n",
      " 5   Area                    550 non-null    object\n",
      " 6   Location                547 non-null    object\n",
      " 7   Activity                515 non-null    object\n",
      " 8   Name                    544 non-null    object\n",
      " 9   Unnamed: 9              2 non-null      object\n",
      " 10  Age                     366 non-null    object\n",
      " 11  Injury                  554 non-null    object\n",
      " 12  Fatal (Y/N)             555 non-null    object\n",
      " 13  Time                    347 non-null    object\n",
      " 14  Species                 417 non-null    object\n",
      " 15  Investigator or Source  553 non-null    object\n",
      " 16  pdf                     373 non-null    object\n",
      " 17  Fatal                   555 non-null    int64 \n",
      "dtypes: int64(2), object(16)\n",
      "memory usage: 82.4+ KB\n"
     ]
    }
   ],
   "source": [
    "# Isolate the South Africa dataset\n",
    "south_africa = gsaf[gsaf['Country'] == 'SOUTH AFRICA']\n",
    "south_africa.info()"
   ]
  },
  {
   "cell_type": "markdown",
   "metadata": {},
   "source": [
    "Per the South Africa set, there are 555 records. The 'Species' column has information (non-null values) in 417 of the rows. Let's see what kind of information is present for the species column."
   ]
  },
  {
   "cell_type": "code",
   "execution_count": 27,
   "metadata": {
    "scrolled": true
   },
   "outputs": [
    {
     "name": "stdout",
     "output_type": "stream",
     "text": [
      "13                                                NaN\n",
      "28                                   White shark, 4 m\n",
      "66                              White shark, juvenile\n",
      "100                                       2.5 m shark\n",
      "105                                               NaN\n",
      "119                                   White shark, 3m\n",
      "166                                               NaN\n",
      "176                                White shark, 2.5 m\n",
      "186                                       White shark\n",
      "191                                    Blacktip shark\n",
      "229               Death may have been due to drowning\n",
      "238                                               NaN\n",
      "245                                               NaN\n",
      "277                                White shark, 2.5 m\n",
      "301                                               NaN\n",
      "313    Shark involvement prior to death not confirmed\n",
      "333                                       Tiger shark\n",
      "347                                  White shark, 4 m\n",
      "413                                       White shark\n",
      "438                                       White shark\n",
      "Name: Species , dtype: object\n"
     ]
    }
   ],
   "source": [
    "# list the first 20 records for 'Species'\n",
    "print(south_africa['Species '].head(20))"
   ]
  },
  {
   "cell_type": "markdown",
   "metadata": {},
   "source": [
    "In the first 20 records for South Africa attacks, we can see 9 instances of a White shark being involved. However, the data is not formatted consistently. The good news is that \"White shark\" is consistently noted, sometimes with other information, such as approximate length. Now, let's take a look at the 'Species ' information for the USA."
   ]
  },
  {
   "cell_type": "code",
   "execution_count": 28,
   "metadata": {
    "scrolled": false
   },
   "outputs": [
    {
     "name": "stdout",
     "output_type": "stream",
     "text": [
      "0                 Tiger shark\n",
      "4                         NaN\n",
      "15                        NaN\n",
      "19        10'-12' tiger shark\n",
      "20    Juvenile blacktip shark\n",
      "26    4' to 5' blacktip shark\n",
      "31             4' to 5' shark\n",
      "34                        NaN\n",
      "36                        NaN\n",
      "37             Juvenile shark\n",
      "39             6' to 7' shark\n",
      "40                        NaN\n",
      "41                   2' shark\n",
      "42                        NaN\n",
      "43                        NaN\n",
      "45                Nurse shark\n",
      "46                        NaN\n",
      "47                 6.5' shark\n",
      "48                        NaN\n",
      "49                        NaN\n",
      "Name: Species , dtype: object\n"
     ]
    }
   ],
   "source": [
    "# Isolate the USA dataset & print the first 20 values from the 'Species' column\n",
    "usa = gsaf[gsaf['Country'] == 'USA']\n",
    "print(usa['Species '].head(20))"
   ]
  },
  {
   "cell_type": "code",
   "execution_count": 29,
   "metadata": {},
   "outputs": [
    {
     "name": "stdout",
     "output_type": "stream",
     "text": [
      "<class 'pandas.core.frame.DataFrame'>\n",
      "Int64Index: 2161 entries, 0 to 5720\n",
      "Data columns (total 18 columns):\n",
      " #   Column                  Non-Null Count  Dtype \n",
      "---  ------                  --------------  ----- \n",
      " 0   Case Number             2161 non-null   object\n",
      " 1   Date                    2161 non-null   object\n",
      " 2   Year                    2161 non-null   int64 \n",
      " 3   Type                    2161 non-null   object\n",
      " 4   Country                 2161 non-null   object\n",
      " 5   Area                    2159 non-null   object\n",
      " 6   Location                2124 non-null   object\n",
      " 7   Activity                2037 non-null   object\n",
      " 8   Name                    2131 non-null   object\n",
      " 9   Unnamed: 9              6 non-null      object\n",
      " 10  Age                     1545 non-null   object\n",
      " 11  Injury                  2156 non-null   object\n",
      " 12  Fatal (Y/N)             2161 non-null   object\n",
      " 13  Time                    1430 non-null   object\n",
      " 14  Species                 1313 non-null   object\n",
      " 15  Investigator or Source  2154 non-null   object\n",
      " 16  pdf                     1303 non-null   object\n",
      " 17  Fatal                   2161 non-null   int64 \n",
      "dtypes: int64(2), object(16)\n",
      "memory usage: 320.8+ KB\n"
     ]
    }
   ],
   "source": [
    "usa.info()"
   ]
  },
  {
   "cell_type": "markdown",
   "metadata": {},
   "source": [
    "Of the 2161 records for the USA, only 1313 have actual information in the 'Species ' column. Of the first 20 records, only a few have a species listed. Let's remove the nulls from the USA data and re-look."
   ]
  },
  {
   "cell_type": "code",
   "execution_count": 30,
   "metadata": {},
   "outputs": [
    {
     "name": "stdout",
     "output_type": "stream",
     "text": [
      "0                                           Tiger shark\n",
      "19                                  10'-12' tiger shark\n",
      "20                              Juvenile blacktip shark\n",
      "26                              4' to 5' blacktip shark\n",
      "31                                       4' to 5' shark\n",
      "37                                       Juvenile shark\n",
      "39                                       6' to 7' shark\n",
      "41                                             2' shark\n",
      "45                                          Nurse shark\n",
      "47                                           6.5' shark\n",
      "51                                     10' to 12' shark\n",
      "56                                   Blacktip shark, 5'\n",
      "60                            Blacktip or Spinner shark\n",
      "61                                      Sandtiger shark\n",
      "64                                            shark pup\n",
      "73                                 Bull shark, 4' to 5'\n",
      "81    Shark involvement unconfirmed but considered p...\n",
      "82                                             8' shark\n",
      "87                                          Tiger shark\n",
      "90                                          Tiger shark\n",
      "Name: Species , dtype: object\n"
     ]
    }
   ],
   "source": [
    "# Isolate the non-null values for Species in the USA dataset\n",
    "usa = usa[usa['Species '].isnull() == False]\n",
    "print(usa['Species '].head(20))"
   ]
  },
  {
   "cell_type": "markdown",
   "metadata": {},
   "source": [
    "After removing the null data from the USA Species column, there are several different shark species listed, including Tiger, Nurse, Blacktip and Bull sharks. Assuming this information is accurate, we'll try to cleanup the 'Species ' information for the entire dataset. "
   ]
  },
  {
   "cell_type": "markdown",
   "metadata": {},
   "source": [
    "#### Cleaning and Organizing the Species Column\n",
    "We'll start cleaning and organizing the species column. The main goal will be to extract the species listed, but there are many records with just a length or some general comment. These will be changed to unknown, along with any nulls."
   ]
  },
  {
   "cell_type": "code",
   "execution_count": 31,
   "metadata": {},
   "outputs": [
    {
     "name": "stdout",
     "output_type": "stream",
     "text": [
      "0                                        [tiger, shark]\n",
      "1                                             [unknown]\n",
      "2                                     [a, small, shark]\n",
      "3                       [broadnose, seven, gill, shark]\n",
      "4                                             [unknown]\n",
      "5                                             [unknown]\n",
      "6                                        [lemon, shark]\n",
      "7                                        [white, shark]\n",
      "8                                             [unknown]\n",
      "9                                             [unknown]\n",
      "10    [shovelnose, shark, which, is, a, ray,, not, a...\n",
      "11                                            [unknown]\n",
      "12                                            [unknown]\n",
      "13                                            [unknown]\n",
      "14                                            [unknown]\n",
      "15                                            [unknown]\n",
      "16                                       [white, shark]\n",
      "17                                [34, m, tiger, shark]\n",
      "18                                            [unknown]\n",
      "19                                [10-12, tiger, shark]\n",
      "Name: species, dtype: object\n",
      "5702     [2, m, shark]\n",
      "5703    [white, shark]\n",
      "5704         [unknown]\n",
      "5705         [unknown]\n",
      "5706         [unknown]\n",
      "5707         [unknown]\n",
      "5708         [unknown]\n",
      "5709         [unknown]\n",
      "5710         [unknown]\n",
      "5711         [unknown]\n",
      "5712         [unknown]\n",
      "5713         [unknown]\n",
      "5714         [unknown]\n",
      "5715         [unknown]\n",
      "5716         [unknown]\n",
      "5717         [unknown]\n",
      "5718         [unknown]\n",
      "5719         [unknown]\n",
      "5720         [unknown]\n",
      "5721         [unknown]\n",
      "Name: species, dtype: object\n"
     ]
    },
    {
     "name": "stderr",
     "output_type": "stream",
     "text": [
      "/tmp/ipykernel_12226/4056585008.py:3: FutureWarning: The default value of regex will change from True to False in a future version.\n",
      "  gsaf['species'] = gsaf['Species '].str.lower().str.replace('\\\"','').str.replace('\\?','').str.replace('questionable','unknown').str.replace(\"\\'\",'').str.replace('.','').str.split()\n",
      "/tmp/ipykernel_12226/4056585008.py:3: FutureWarning: The default value of regex will change from True to False in a future version. In addition, single character regular expressions will *not* be treated as literal strings when regex=True.\n",
      "  gsaf['species'] = gsaf['Species '].str.lower().str.replace('\\\"','').str.replace('\\?','').str.replace('questionable','unknown').str.replace(\"\\'\",'').str.replace('.','').str.split()\n"
     ]
    }
   ],
   "source": [
    "# Replace null values for Species with 'Unknown' and split the 'Species' string for further analysis\n",
    "gsaf['Species '].fillna('unknown', inplace = True)\n",
    "gsaf['species'] = gsaf['Species '].str.lower().str.replace('\\\"','').str.replace('\\?','').str.replace('questionable','unknown').str.replace(\"\\'\",'').str.replace('.','').str.split()\n",
    "print(gsaf['species'].head(20))\n",
    "print(gsaf['species'].tail(20))"
   ]
  },
  {
   "cell_type": "markdown",
   "metadata": {},
   "source": [
    "We'll piece back together some of the individual words from the species column. Those with a number of words greater than 5 will be ignored. There are too many options to review for those. Those under 5 words will be combined for further analysis. "
   ]
  },
  {
   "cell_type": "code",
   "execution_count": 32,
   "metadata": {},
   "outputs": [
    {
     "data": {
      "text/plain": [
       "array(['tiger shark', 'unknown', 'a small shark',\n",
       "       'broadnose seven gill shark', 'lemon shark', 'white shark',\n",
       "       'very long', '34 m tiger shark', '10-12 tiger shark',\n",
       "       'juvenile blacktip shark', '5 blacktip shark', 'white shark, 4 m',\n",
       "       '10 tiger shark', '4 to 5 shark', 'oceanic whitetip shark',\n",
       "       '7 shark', 'white shark, 35 m', 'juvenile shark', '1+ m shark',\n",
       "       '6 to 7 shark', '2 shark', '14 white shark', 'nurse shark',\n",
       "       '65 shark', '10 to 12 shark', 'blacktip shark, 5',\n",
       "       'blacktip or spinner shark', 'sandtiger shark', 'white shark, 3m',\n",
       "       'shark pup', 'white shark, juvenile', 'bull shark pup',\n",
       "       'bull shark, 35 m', '8 shark', 'cookiecutter shark',\n",
       "       'sand tiger shark', '12 shark', 'grey reef shark, 4', '4 shark',\n",
       "       'spinner shark', '25 m shark', 'bull shark', 'wobbegong shark',\n",
       "       'white shark, 46m', 'mako shark, 7', 'bronze whaler 25m',\n",
       "       'reef shark x 2', '5 shark', '3 to 4 shark',\n",
       "       'white shark, 5m female', 'reef shark', 'salmon shark, juvenile',\n",
       "       'nurse shark, 5', '2 m shark', 'tiger shark, 3m', 'lemon shark, 3',\n",
       "       'bull shark, 6', 'grey reef shark', 'invalid incident',\n",
       "       'tawny nurse shark, 2m', 'shark involvement not confirmed',\n",
       "       '3 m shark', 'white shark, 25 m', '6 shark', 'juvenile bull shark',\n",
       "       'tiger shark, 12', '35 m shark', '18 m shark', 'blacktip shark',\n",
       "       'bull shark, 2 m', 'possibly a wobbegong', 'galapagos shark',\n",
       "       '2m shark', 'bull shark, 3 m', 'small shark',\n",
       "       'juvenile nurse shark', 'nurse shark 5', 'tiger shark, female',\n",
       "       'white shark, 46 m', 'wobbegong shark, 1 m', 'white shark, 45 m',\n",
       "       'porbeagle, 15 m', 'white shark, 35m', '5 to 6 shark',\n",
       "       'white shark, 3 m', 'shark involvement unknown', 'white shark, 10',\n",
       "       'sandtiger shark 2', 'blue shark 6', 'white shark, 9',\n",
       "       'tiger shark, 100 kg', 'no shark invovlement', 'bull shark, 2m',\n",
       "       'seven-gill shark', '3 shark', '9 shark',\n",
       "       'shark involvement highly doubtful', '10 shark', 'bull shark, 15',\n",
       "       'lemon shark pup', 'white shark, female, 14',\n",
       "       'caribbean reef shark', 'bull shark, 4 m', 'bull shark, 1 m',\n",
       "       'wobbegong shark, 2m', '6 to 8 shark', 'tiger shark, 10',\n",
       "       'blue shark', 'nurse shark, 4', 'reef shark, 1m', 'lemon shark, 9',\n",
       "       'angel shark', 'dogfish shark', 'tawny nurse shark',\n",
       "       'caribbean reef shark, 45', '3 to 5 shark', '3+ m shark',\n",
       "       'mako shark', 'blacktip shark, 4', 'nurse shark, 2',\n",
       "       'bull shark, 7', 'tiger shark, 25 m', 'nurse shark, 25-ft',\n",
       "       'bronze whaler', 'no shark involvement', 'reef shark, 5',\n",
       "       'bull sharks x 2', 'tiger shark, 14', 'silky shark, 65',\n",
       "       'bronze whaler shark, 6', 'tiger shark, 15 m', 'spinner shark, 7',\n",
       "       'spinner shark, 5', 'tiger shark, 7', 'hammerhead sp',\n",
       "       'tiger shark, 13', 'white shark, 19', 'hammerhead shark',\n",
       "       'white shark, 13', 'mako shark, 100-lb',\n",
       "       'bronze whaler shark, 15m', 'white shark, 7',\n",
       "       'shark involvement not cofirmed', 'bull shark, 5',\n",
       "       'small nurse shark', 'bull shark, 25 m', '3- to 4-foot shark',\n",
       "       'white shark, 6 m', 'blacktip reef shark', 'tiger shark, 35 m',\n",
       "       'bull shark, 13 m', '5 m shark', '15 m shark',\n",
       "       'raggedtooth shark, 13 m', 'goblin shark', '12 to 14 shark',\n",
       "       '1 m shark', '8 to 10 shark', '4 to 6 shark', 'bull shark, 45',\n",
       "       'bull shark, 8', '4 tp 5 shark', 'possibly juvenile tiger shark',\n",
       "       '18 metre shark', 'lemon shark, 35 m', 'bull shark, 12m',\n",
       "       '3m shark', 'tawney nurse shark, 1m', 'white shark, 15',\n",
       "       'cow shark', 'raggedtooth shark, 2m', '7-gill shark', '1m shark',\n",
       "       'blacktip reef shark, 1m', 'small bull shark', 'salmon shark',\n",
       "       'mako shark, 5', 'lemon shark, 4', 'wobbegong, 2m',\n",
       "       'grey nurse shark, 3m', 'raggedtooth shark, 15 m',\n",
       "       'tiger shark, 48 m', 'bronze whaler shark, 25m', 'small sharks',\n",
       "       'white shark, 4m', 'white shark, 5m', 'tiger shark, 15',\n",
       "       'bronze whaler shark, 3m', 'tiger shark, 6', '2 to 3 shark',\n",
       "       'tiger shark, 8', '35 to 4 shark', 'porbeagle shark, 7',\n",
       "       '45 m shark', '14 to 18shark', '15 shark', 'possibly a bull shark',\n",
       "       'a small reef shark', 'small blacktip shark', 'blue shark, 25m',\n",
       "       'white shark, 2 m', '18 to 24 shark', 'bull shark, 3m',\n",
       "       'white shark, 6m', 'tawny nurse shark, 40cm', 'grey nurse shark',\n",
       "       'white shark, 7m', 'white shark, 27 m', '7 to 8 shark',\n",
       "       'white shark, 25m', 'raggedtooth shark', 'port jackson shark, 1m',\n",
       "       'tiger shark, 2m', 'white shark, >6', '4 m shark',\n",
       "       'bull shark, 3m female', 'white shark, 5 k',\n",
       "       'oceanic whitetip shark, 7', 'zambesi shark', 'tiger shark, 28m',\n",
       "       'sandbar shark, 8', 'bull shark, 12', 'reef shark, 15m',\n",
       "       '1 to 2 shark', 'blacktip shark pup', 'bull shark, 25m',\n",
       "       'white shark x 2', 'oceanic whitetip shark, 25m',\n",
       "       'porbeagle shark, 8', 'bull shark, 14m', 'a small spinner shark',\n",
       "       'nurse shark, juvenile', 'blue shark, 7', '20 to 30kg shark',\n",
       "       'lemon shark, 6', '14 shark', 'oceanic whitetip shark, 6',\n",
       "       'possibly a blue shark', 'wobbegong shark, 16m',\n",
       "       'spinner shark, 6', 'whitetip reef shark, 1m', 'zambesi shark, 2m',\n",
       "       'sandtiger shark, 8', 'thresher shark', 'bull shark, 10',\n",
       "       'white shark, 2m', 'caribbean reef shark, 6', 'nurse shark, 6',\n",
       "       '80 kg shark', '5 to 8 shark', 'bronze whaler shark',\n",
       "       'blacktip reef shark pup', 'wobbegong shark, 60cm',\n",
       "       'blue shark, 1m', '26 m shark', 'bull shark, 27 m',\n",
       "       'white shark, 12', 'white shark, 55 m', 'white sharks',\n",
       "       'dusky shark, 2m', 'mako shark, 3m', 'broadnose sevengill shark',\n",
       "       'reef shark, 18m', '5 m white shark', '=+3 shark',\n",
       "       'starry smoothhound shark, 1m', 'white shark, 45m',\n",
       "       '45 to 5 shark', 'basking shark', 'tiger sharks in area',\n",
       "       '2 small bull sharks', 'bull shark, 18m', 'tiger shark, 23m',\n",
       "       'tiger shark, 13 female', '15 to 2 shark', '25 shark',\n",
       "       'goblin shark, 42', 'blacktip shark, 2m', 'mako shark, 90kg',\n",
       "       'bronze whaler shark, 4m', 'nurse shark, 10',\n",
       "       'possibly a hammerhead shark', '227 m shark', 'gray reef shark',\n",
       "       '95 shark', 'possibly a spinner shark', 'sand shark',\n",
       "       'unknown incident', 'lemon shark, 6 female', 'lemon shark, >1 m',\n",
       "       '24 m shark', '24 to 30 shark', 'raggedtooth shark, 150-kg',\n",
       "       'bull shark, 15m', 'white shark, 16', '1 to 4 shark',\n",
       "       '3 to 35 shark', 'small catsharks', 'angel shark, 12m',\n",
       "       'bull or tiger shark', 'tiger shark, 15 female',\n",
       "       'wobbegong shark, 2 m', '3 m, 600-kg shark', 'tiger shark, 5',\n",
       "       '5 to 7 shark', '45 m white shark', '12 to 18 shark',\n",
       "       '35 m white shark', 'whitetip reef shark', '4 m white shark',\n",
       "       '3 m white shark', 'raggedtooth shark, 25m', '18 white shark',\n",
       "       'caribbean reef sharks', 'tiger shark, 3 m',\n",
       "       'juvenile white shark', '18 m [6] shark', '35 m [115]shark',\n",
       "       '[45 to 5] shark', '[4 to 5]', '18 to 36 shark',\n",
       "       'small hammerhead shark', '4 m [13] shark', 'nurse shark, 3',\n",
       "       '3 m [10] shark', '24 m [8] shark', '12 m [4] shark',\n",
       "       'black tipped shark', '92 white shark',\n",
       "       'shark involvement doubtful', 'bull shark, 132-kg [291-lb]',\n",
       "       'shortfin mako shark', '25 oceanic whitetip shark',\n",
       "       '2 m cow shark', 'unidentified species',\n",
       "       '8 great hammerhead shark', '106 cm [35] shark',\n",
       "       '“small brown shark”', 'a “small” shark', 'species unidentified',\n",
       "       'wobbegong shark, 1m', '35 to 45 shark', 'mako shark, 400-lb',\n",
       "       '3 blacktip shark', 'white shark, 6m [20]', 'bull shark, 400-lb',\n",
       "       '09 m [3] shark', 'nurse shark, 1m', '2 to 35 shark',\n",
       "       '12 sandtiger shark', '15 m [5] shark', 'mako shark, 14',\n",
       "       '2 m [675] shark', '6 m [20] shark', 'tiger shark, 4 m',\n",
       "       'blacktip shark, 2', 'sevengill shark', '3 bull sharks',\n",
       "       'possibly a white shark', 'dusky shark, 12', '5 spinner shark',\n",
       "       '17 m shark', 'possibly a blacktip shark', 'soupfin shark',\n",
       "       'tiger shark, 27m [9]', 'possibly a sand shark', 'a young shark',\n",
       "       'possibly a tiger shark', 'tiger shark, 300-kg [662-lb]',\n",
       "       '37 m [12] shark', 'leopard shark', '27 m [9] shark',\n",
       "       '21 m [7] shark', '>18 m [6] shark', '49 m white shark',\n",
       "       '13 m [43] shark', 'possiby white shark', '3 m hammerhead shark',\n",
       "       'unidentified shark', '42 m white shark', 'nurse shark, 3, 20-lb',\n",
       "       '>2 m shark', '5 m [165] shark', '18 m grey shark',\n",
       "       'lemon shark, 30-lb', '170-kg, 28 m shark', '7 female shark',\n",
       "       '4 spinner shark', '6 m, 600-kg shark', '2 m hammerhead',\n",
       "       '150-lb shark', 'sandbar shark', '7 silvertip shark',\n",
       "       '16 white shark', 'raggedtooth shark, 2 m',\n",
       "       '1 m grey-colored shark', '15 m copper shark', '6 m shark',\n",
       "       '57 m white shark', '43 m shark', '16 m shark', '>1 m shark',\n",
       "       '6, 100-lb shark', '18 m silky shark', '30-kg [66-lb] shark',\n",
       "       'hammerhead shark+o2356', 'small blue shark', '25 m [825] shark',\n",
       "       'raggedtooth shark, 56-kg [123-lb]', 'raggedtooth shark, 1 m',\n",
       "       '12 white shark', 'raggedtooth shark, >1 m', '45 shark',\n",
       "       '35 hammerhead shark', '6 blacktip shark', 'blue sharks',\n",
       "       'gray shark', '13, 400-lb thresher shark', '6 m white shark',\n",
       "       '1 m hammerhead shark', '35 m [115] shark', '4 to 8 shark',\n",
       "       '22 m shark', '18 m [6] dogfish', 'white shark, 5 m',\n",
       "       '2 m [69] shark', 'sevengill shark, 24 m', '270 kg shark',\n",
       "       'white shark, 48 m', 'blue shark, 2m',\n",
       "       'mako shark, 180-kg [397-lb]', 'whale shark',\n",
       "       'white shark named “spotty”', 'grey nurse shark, 10',\n",
       "       'juvenile dusky shark', 'shark involvement unconfirmed',\n",
       "       'white shark, 600-kg [1323-lb]', 'carpet shark, 10',\n",
       "       'copper shark, 50-kg [110-b]', '8 blue shark', '37 m [12] sharks',\n",
       "       'bronze whaler shark, 4', 'bronze whaler shark, 10',\n",
       "       'grey nurse shark, 11', '36 m porbeagle shark', 'dog shark',\n",
       "       '75 shark', 'carpet shark', '>24 m [8] shark',\n",
       "       'considered a doubtful incident', '90-kg blackfin shark',\n",
       "       'a small hammerhead shark', '4m [13] shark', 'not authenticated',\n",
       "       'blue whaler (galeolamna)', '5 blue shark', 'nurse shark, 1 m',\n",
       "       'nurse shark, 25', 'spinner or blacktip sharks', 'copper shark',\n",
       "       'wobbegong shark, 5', '46 m [15] shark', '2 sharks involved',\n",
       "       '300-kg [662-lb] shark', 'lemon shark, 05 m', '49 m [16] whaler',\n",
       "       '17 m [55] shark', 'dusky shark, 1 m', 'wobbegong shark, 3',\n",
       "       'white shark, 152', '500-lb shark', '55 m [18] shark', '8 sharks',\n",
       "       '193-lb shark', '<15 m shark', 'white shark, 16, 2,312-lb',\n",
       "       '43 m [14] shark', '49 m [16]shark', '60 cm shark', '36 shark',\n",
       "       '43 shark', '27 m [9]shark', 'hammerhead shark, 500-llb',\n",
       "       'zambesi shark, 49', '2 banjo shark', '> 3 m shark',\n",
       "       'grey nurse shark, 1m', 'bull shark, 1m', '80-lb hooked shark',\n",
       "       'raggedtooth shark, 100-lb', 'blue pointer', '49 m [16] shark',\n",
       "       'blacktail reef shark', '55 shark', 'hammerhead shark, 9',\n",
       "       '20 kg shark', '14 m [45] shark', '200-lb shark',\n",
       "       'mako shark, 100-kg [221-lb]', '<1 m shark',\n",
       "       'several sharks involved', '>3 m [10] shark', 'mako shark, 125-lb',\n",
       "       'a sand shark', 'wobbegong shark, 4', 'porbeagle or white shark',\n",
       "       '23 m [7] shark', '8-lb shark', '40-lb sand shark',\n",
       "       'white shark, 65 m', 'small brown-colored shark', 'a little shark',\n",
       "       '20 shark', 'nurse shark, 58, 34-lb', '5m shark', '37 [12] shark',\n",
       "       '80-lb sand shark', 'white shark,46 m [15]', '>67 m [22] shark',\n",
       "       'hammerhead shark, 5', 'carpet shark, 5',\n",
       "       'white shark, 153, 2,333-lb', '136-kg [300-lb] shark',\n",
       "       'wobbegong shark, 6', '1,100-lb shark', '17 white shark',\n",
       "       '07 m [25] shark', '213 m shark', 'small carpet shark',\n",
       "       'possibly a lemon shark', 'whtietip reef shark',\n",
       "       'bonita sharkk, 200-lb', '33 m [109] shark', 'grey shark',\n",
       "       'possibly c leucas', '15 m, 45-kg shark', '45 m [149] shark',\n",
       "       '>16 m shark', 'tiger shark & others', 'porbeagle shark',\n",
       "       '100-lb shark', 'blue pointer, 16', 'whaler shark', '18 shark',\n",
       "       'a large shark', 'tiger shark, 3', 'grey-colored shark',\n",
       "       '26 m [85] shark', '3 blue nosed shark', 'grey nurse shark, 8',\n",
       "       '650-lb shark', 'white shark, 246-kg', 'blue nose shark',\n",
       "       '2 sharks', 'blue pointer, 11', 'a 65 blue-nosed shark',\n",
       "       '3 sharks', '44 m [14] shark', '16 800-lb shark',\n",
       "       '250-lb dog shark', 'a school of sharks', '9-foot shark',\n",
       "       'grey nurse shark, 4', 'a dog shark', 'blue pointer, 12',\n",
       "       'blue nose sharks', 'whiptail shark (thresher shark)',\n",
       "       'unknown, 2m shark suspected', 'a blue shark',\n",
       "       'a very large shark', 'blue shark, 4', '13 shark', '55 to 6 shark',\n",
       "       '18-foot shark', 'allegedly a 33-foot shark',\n",
       "       'shark involvement probable', 'shortfin mako shark, 175-lb',\n",
       "       'tiger shark, 39 m'], dtype=object)"
      ]
     },
     "execution_count": 32,
     "metadata": {},
     "output_type": "execute_result"
    }
   ],
   "source": [
    "# Function to concatenate the split words in the species column\n",
    "def shark_name(my_list):\n",
    "    if len(my_list) >= 5:\n",
    "        return 'very long'\n",
    "    elif len(my_list) == 4:\n",
    "        return str(my_list[-4] + ' ' + my_list[-3] + ' ' + my_list[-2] + ' ' + my_list[-1])\n",
    "    elif len(my_list) == 3:\n",
    "        return str(my_list[-3] + ' ' + my_list[-2] + ' ' + my_list[-1])\n",
    "    elif len(my_list) == 2:\n",
    "        return str(my_list[-2] + ' ' + my_list[-1])\n",
    "    else:        \n",
    "        return 'unknown'\n",
    "\n",
    "gsaf['Species'] = gsaf['species'].apply(shark_name)\n",
    "gsaf['Species'].unique()"
   ]
  },
  {
   "cell_type": "markdown",
   "metadata": {},
   "source": [
    "Many of the sharks involved have been cleaned up, but there's still quite a bit of variety. A lot of them include some sort of measurement, and some have shark names that are more than 2 words (ex. - tawny nurse shark and bronze whaler shark)."
   ]
  },
  {
   "cell_type": "code",
   "execution_count": 33,
   "metadata": {},
   "outputs": [
    {
     "data": {
      "text/plain": [
       "unknown                            2488\n",
       "very long                          1213\n",
       "white shark                         164\n",
       "shark involvement not confirmed      88\n",
       "tiger shark                          82\n",
       "                                   ... \n",
       "=+3 shark                             1\n",
       "reef shark, 18m                       1\n",
       "broadnose sevengill shark             1\n",
       "mako shark, 3m                        1\n",
       "tiger shark, 39 m                     1\n",
       "Name: Species, Length: 578, dtype: int64"
      ]
     },
     "execution_count": 33,
     "metadata": {},
     "output_type": "execute_result"
    }
   ],
   "source": [
    "# Updated look at the most common results for the shark species involved\n",
    "gsaf['Species'].value_counts()"
   ]
  },
  {
   "cell_type": "code",
   "execution_count": 34,
   "metadata": {},
   "outputs": [
    {
     "data": {
      "text/plain": [
       "TBD                       4785\n",
       "white shark                288\n",
       "tiger shark                169\n",
       "bull shark                 111\n",
       "wobbegong                   40\n",
       "nurse shark                 39\n",
       "blacktip shark              34\n",
       "blue shark                  29\n",
       "spinner shark               27\n",
       "mako shark                  26\n",
       "raggedtooth shark           26\n",
       "lemon shark                 25\n",
       "grey nurse shark            22\n",
       "hammerhead shark            20\n",
       "zambesi shark               15\n",
       "oceanic whitetip shark      13\n",
       "grey reef shark              7\n",
       "caribbean reef shark         7\n",
       "porbeagle shark              4\n",
       "galapagos shark              4\n",
       "tawny nurse shark            3\n",
       "7-gill shark                 3\n",
       "salmon shark                 3\n",
       "cookiecutter shark           3\n",
       "thresher shark               3\n",
       "silky shark                  2\n",
       "goblin shark                 2\n",
       "cow shark                    2\n",
       "sandbar shark                2\n",
       "whitetip reef shark          2\n",
       "port jackson shark           1\n",
       "seven gill shark             1\n",
       "Name: Species ID, dtype: int64"
      ]
     },
     "execution_count": 34,
     "metadata": {},
     "output_type": "execute_result"
    }
   ],
   "source": [
    "# Manually create a list of shark species commonly seen in the species column\n",
    "sharks = ['white shark', 'bull shark', 'tiger shark', 'hammerhead shark', 'grey nurse shark', 'tawney nurse shark'\n",
    "         'bronze whaler shark', 'tawny nurse shark', 'nurse shark', 'sand tiger shark', 'oceanic whitetip shark', \n",
    "         'whitetip reef shark', 'thresher shark', 'caribbean reef shark', 'blue shark', 'lemon shark', \n",
    "         'spinner shark', 'wobbegong', 'sandtiger shark', 'blacktip shark', 'porbeagle shark', 'mako shark', \n",
    "         'salmon shark', 'sandbar shark', 'zambesi shark', 'goblin shark', 'raggedtooth shark', 'port jackson shark', \n",
    "         'cow shark', '7-gill shark', 'silky shark', 'galapagos shark', 'grey reef shark', 'cookiecutter shark',\n",
    "         'seven gill shark']\n",
    "\n",
    "# Create a function to populate a new column named, 'Species ID', with the appropriate species name\n",
    "def shark_id(a_list):\n",
    "    for s in sharks:\n",
    "        if s in a_list:\n",
    "            return s\n",
    "    return 'TBD'\n",
    "\n",
    "gsaf['Species ID'] = gsaf['Species'].apply(shark_id)\n",
    "gsaf['Species ID'].value_counts()"
   ]
  },
  {
   "cell_type": "markdown",
   "metadata": {},
   "source": [
    "Not the easiest way, but putting together the list of sharks identified attacks helped get an idea of which sharks have been involved the most in recorded attacks. There is some cleanup still to do, because regional differences in common shark names is prevalent. For example, the sandtiger, raggedtooth, and grey nurse shark all refer to the same species. As does the zambesi and bull sharks (along with other names). Additionally, there are several types of hammerhead sharks, yet this dataset does not seem to have much differentiation of those species.\n",
    "\n",
    "Per the Florida Museum's webpage regarding bull sharks, https://www.floridamuseum.ufl.edu/discover-fish/species-profiles/carcharhinus-leucas/, \n",
    "\"It is known by many different common names throughout its range including requin bouledogue in French speaking countries; Tiburon sarda in Spain; Zambezi shark, Van Rooyen’s shark in South Africa; The Ganges shark in India (though this name is also given to the freshwater river shark Glyphis gangeticus); The Nicaragua shark in Central America; The freshwater whaler, estuary whaler, and Swan River whaler in Australia; The shovelnose shark, square-nose shark, river shark, slipway grey shark, ground shark, and cub shark in various English speaking parts of the world.\"\n",
    "\n",
    "In hindsight, using the scientific names for the different shark species would be ideal for limiting the regional naming issues. However, that information is not available in this dataset. Another issue is the exact identification of the shark. Many species are very similar in body shape, color, size, etc. so exact identification would be difficult for most witnesses."
   ]
  },
  {
   "cell_type": "code",
   "execution_count": 35,
   "metadata": {
    "scrolled": true
   },
   "outputs": [
    {
     "data": {
      "text/plain": [
       "TBD                       4785\n",
       "white shark                288\n",
       "tiger shark                169\n",
       "bull shark                 126\n",
       "raggedtooth shark           48\n",
       "wobbegong                   40\n",
       "nurse shark                 39\n",
       "blacktip shark              34\n",
       "blue shark                  29\n",
       "spinner shark               27\n",
       "mako shark                  26\n",
       "lemon shark                 25\n",
       "hammerhead shark            20\n",
       "oceanic whitetip shark      13\n",
       "grey reef shark              7\n",
       "caribbean reef shark         7\n",
       "porbeagle shark              4\n",
       "7-gill shark                 4\n",
       "galapagos shark              4\n",
       "salmon shark                 3\n",
       "tawny nurse shark            3\n",
       "cookiecutter shark           3\n",
       "thresher shark               3\n",
       "silky shark                  2\n",
       "goblin shark                 2\n",
       "cow shark                    2\n",
       "sandbar shark                2\n",
       "whitetip reef shark          2\n",
       "port jackson shark           1\n",
       "Name: Species ID, dtype: int64"
      ]
     },
     "execution_count": 35,
     "metadata": {},
     "output_type": "execute_result"
    }
   ],
   "source": [
    "# Combine some of the different spelling or local names for the same shark species\n",
    "change_names = {'seven gill shark':'7-gill shark', 'zambesi shark':'bull shark', 'grey nurse shark':'raggedtooth shark',\n",
    "                }\n",
    "gsaf['Species ID'].astype(str)\n",
    "gsaf['Species ID'].replace(change_names, value=None, inplace=True)\n",
    "gsaf['Species ID'].value_counts()"
   ]
  },
  {
   "cell_type": "markdown",
   "metadata": {},
   "source": [
    "The fact that the white shark, tiger shark and bull shark are at the top of the list in terms of number of attacks is not surprising. What is a bit surprising is the wobbegong and nurse shark in the top 6. Those species of shark are normally known for being on the more sluggish/slow moving side that spend quite a bit of their time resting on the seafloor. Yet, they have more attacks attributed to them than some of the more \"agressive\" sharks, such as the oceanic white tip."
   ]
  },
  {
   "cell_type": "code",
   "execution_count": 36,
   "metadata": {},
   "outputs": [
    {
     "name": "stdout",
     "output_type": "stream",
     "text": [
      "   Case Number         Date  Year        Type      Country               Area  \\\n",
      "0   2020.02.05  05-Feb-2020  2020  Unprovoked          USA               Maui   \n",
      "3   2020.01.16  16-Jan-2020  2020  Unprovoked  NEW ZEALAND          Southland   \n",
      "6   2020.01.07  07-Jan-2020  2020  Unprovoked    AUSTRALIA         Queensland   \n",
      "7   2020.01.05  05-Jan-2020  2020  Unprovoked    AUSTRALIA  Western Australia   \n",
      "16  2019.12.20  20-Dec-2019  2019    Provoked    AUSTRALIA    New South Wales   \n",
      "\n",
      "                   Location                  Activity          Name  \\\n",
      "0                       NaN  Stand-Up Paddle boarding           NaN   \n",
      "3               Oreti Beach                   Surfing   Jordan King   \n",
      "6         North West Island                  Swimming   Miah Holmes   \n",
      "7   Cull Island / Esperance              Scuba diving  Gary Johnson   \n",
      "16             Shellharbour                   Fishing           NaN   \n",
      "\n",
      "   Unnamed: 9  ...                             Injury Fatal (Y/N)   Time  \\\n",
      "0         NaN  ...  No injury, but paddleboard bitten           N  09h40   \n",
      "3           F  ...          Minor injury to lower leg           N  20h30   \n",
      "6           F  ...                 Lacerations to leg           N  17h30   \n",
      "7           M  ...                              FATAL           Y  13h00   \n",
      "16        NaN  ...                  PROVOKED INCIDENT     UNKNOWN    NaN   \n",
      "\n",
      "                       Species   \\\n",
      "0                   Tiger shark   \n",
      "3   Broadnose seven gill shark?   \n",
      "6                   Lemon shark   \n",
      "7                   White shark   \n",
      "16                  White shark   \n",
      "\n",
      "                               Investigator or Source  \\\n",
      "0                     K. McMurray, TrackingSharks.com   \n",
      "3                     K. McMurray, TrackingSharks.com   \n",
      "6   B. Myatt & M. Michaelson, GSAF; K. McMurray, T...   \n",
      "7                                      B. Myatt, GSAF   \n",
      "16                                     B. Myatt, GSAF   \n",
      "\n",
      "                            pdf Fatal                          species  \\\n",
      "0                           NaN     0                   [tiger, shark]   \n",
      "3           2020.01.16-King.pdf     0  [broadnose, seven, gill, shark]   \n",
      "6         2020.01.07-Holmes.pdf     0                   [lemon, shark]   \n",
      "7        2020.01.05-Johnson.pdf     1                   [white, shark]   \n",
      "16  2019.12.20-Shellharbour.pdf     0                   [white, shark]   \n",
      "\n",
      "                       Species    Species ID  \n",
      "0                  tiger shark   tiger shark  \n",
      "3   broadnose seven gill shark  7-gill shark  \n",
      "6                  lemon shark   lemon shark  \n",
      "7                  white shark   white shark  \n",
      "16                 white shark   white shark  \n",
      "\n",
      "[5 rows x 21 columns]\n"
     ]
    },
    {
     "data": {
      "text/plain": [
       "(933, 21)"
      ]
     },
     "execution_count": 36,
     "metadata": {},
     "output_type": "execute_result"
    }
   ],
   "source": [
    "# Isolating the known species names and excluding those that were TBD/unknown\n",
    "shark_id = gsaf[gsaf['Species ID'] != 'TBD']\n",
    "print(shark_id.head())\n",
    "shark_id.shape"
   ]
  },
  {
   "cell_type": "code",
   "execution_count": 37,
   "metadata": {},
   "outputs": [
    {
     "name": "stdout",
     "output_type": "stream",
     "text": [
      "                Species ID  Fatal  Count\n",
      "0             7-gill shark      0      4\n",
      "1                      TBD    905   4785\n",
      "2           blacktip shark      0     34\n",
      "3               blue shark      5     29\n",
      "4               bull shark     20    126\n",
      "5     caribbean reef shark      0      7\n",
      "6       cookiecutter shark      0      3\n",
      "7                cow shark      0      2\n",
      "8          galapagos shark      0      4\n",
      "9             goblin shark      0      2\n",
      "10         grey reef shark      0      7\n",
      "11        hammerhead shark      0     20\n",
      "12             lemon shark      0     25\n",
      "13              mako shark      2     26\n",
      "14             nurse shark      0     39\n",
      "15  oceanic whitetip shark      1     13\n",
      "16         porbeagle shark      0      4\n",
      "17      port jackson shark      0      1\n",
      "18       raggedtooth shark      0     48\n",
      "19            salmon shark      0      3\n",
      "20           sandbar shark      0      2\n",
      "21             silky shark      0      2\n",
      "22           spinner shark      0     27\n",
      "23       tawny nurse shark      0      3\n",
      "24          thresher shark      0      3\n",
      "25             tiger shark     40    169\n",
      "26             white shark     66    288\n",
      "27     whitetip reef shark      0      2\n",
      "28               wobbegong      0     40\n"
     ]
    }
   ],
   "source": [
    "# Create a fatality dataframe by species\n",
    "species_fatal = gsaf.groupby('Species ID')['Fatal'].sum()\n",
    "species_fatal_df = pd.DataFrame(species_fatal)\n",
    "species_fatal_df.columns = ['Fatal']\n",
    "species_fatal_df.reset_index(inplace=True)\n",
    "\n",
    "# Create a count of incidents dataframe by species\n",
    "species_count = gsaf.groupby('Species ID')['Fatal'].count()\n",
    "species_count_df = pd.DataFrame(species_count)\n",
    "species_count_df.columns = ['Count']\n",
    "species_count_df.reset_index(inplace=True)\n",
    "\n",
    "# Merge the fatality and count dataframes\n",
    "species_fatal_df = pd.merge(species_fatal_df, species_count_df, how = 'left', on = 'Species ID')\n",
    "print(species_fatal_df)\n"
   ]
  },
  {
   "cell_type": "code",
   "execution_count": 38,
   "metadata": {},
   "outputs": [
    {
     "name": "stdout",
     "output_type": "stream",
     "text": [
      "                Species ID  Fatal  Count  Fatality Rate\n",
      "0             7-gill shark      0      4           0.00\n",
      "1                      TBD    905   4785          18.91\n",
      "2           blacktip shark      0     34           0.00\n",
      "3               blue shark      5     29          17.24\n",
      "4               bull shark     20    126          15.87\n",
      "5     caribbean reef shark      0      7           0.00\n",
      "6       cookiecutter shark      0      3           0.00\n",
      "7                cow shark      0      2           0.00\n",
      "8          galapagos shark      0      4           0.00\n",
      "9             goblin shark      0      2           0.00\n",
      "10         grey reef shark      0      7           0.00\n",
      "11        hammerhead shark      0     20           0.00\n",
      "12             lemon shark      0     25           0.00\n",
      "13              mako shark      2     26           7.69\n",
      "14             nurse shark      0     39           0.00\n",
      "15  oceanic whitetip shark      1     13           7.69\n",
      "16         porbeagle shark      0      4           0.00\n",
      "17      port jackson shark      0      1           0.00\n",
      "18       raggedtooth shark      0     48           0.00\n",
      "19            salmon shark      0      3           0.00\n",
      "20           sandbar shark      0      2           0.00\n",
      "21             silky shark      0      2           0.00\n",
      "22           spinner shark      0     27           0.00\n",
      "23       tawny nurse shark      0      3           0.00\n",
      "24          thresher shark      0      3           0.00\n",
      "25             tiger shark     40    169          23.67\n",
      "26             white shark     66    288          22.92\n",
      "27     whitetip reef shark      0      2           0.00\n",
      "28               wobbegong      0     40           0.00\n"
     ]
    }
   ],
   "source": [
    "# Calcualate a fatility rate by species\n",
    "species_fatal_df['Fatality Rate'] = round((species_fatal_df['Fatal'] / species_fatal_df['Count']) * 100, 2)\n",
    "print(species_fatal_df)"
   ]
  },
  {
   "cell_type": "markdown",
   "metadata": {},
   "source": [
    "With the limited number of shark species identified, the data shows that the Tiger shark has the highest fatality rate at almost 24%. It's followed closely by the White shark at 23%. "
   ]
  },
  {
   "cell_type": "code",
   "execution_count": 39,
   "metadata": {},
   "outputs": [
    {
     "name": "stdout",
     "output_type": "stream",
     "text": [
      "                Species ID  Fatal  Count  Fatality Rate\n",
      "1              white shark     66    288          22.92\n",
      "2              tiger shark     40    169          23.67\n",
      "3               bull shark     20    126          15.87\n",
      "4        raggedtooth shark      0     48           0.00\n",
      "5                wobbegong      0     40           0.00\n",
      "6              nurse shark      0     39           0.00\n",
      "7           blacktip shark      0     34           0.00\n",
      "8               blue shark      5     29          17.24\n",
      "9            spinner shark      0     27           0.00\n",
      "10              mako shark      2     26           7.69\n",
      "11             lemon shark      0     25           0.00\n",
      "12        hammerhead shark      0     20           0.00\n",
      "13  oceanic whitetip shark      1     13           7.69\n",
      "14    caribbean reef shark      0      7           0.00\n",
      "15         grey reef shark      0      7           0.00\n",
      "16         galapagos shark      0      4           0.00\n",
      "17            7-gill shark      0      4           0.00\n",
      "18         porbeagle shark      0      4           0.00\n",
      "19            salmon shark      0      3           0.00\n",
      "20       tawny nurse shark      0      3           0.00\n"
     ]
    }
   ],
   "source": [
    "# Isolate the top 20 species based on the shark incident count and will not use the 'TBD' data\n",
    "species_top20 = species_fatal_df.sort_values(by=['Count'], ascending=False, ignore_index=True)[1:21]\n",
    "print(species_top20)"
   ]
  },
  {
   "cell_type": "code",
   "execution_count": 40,
   "metadata": {},
   "outputs": [
    {
     "data": {
      "image/png": "[encoded data removed]",
      "text/plain": [
       "<Figure size 864x288 with 2 Axes>"
      ]
     },
     "metadata": {
      "needs_background": "light"
     },
     "output_type": "display_data"
    }
   ],
   "source": [
    "# Plot the number of attacks and fatality rate by species\n",
    "fig,ax = plt.subplots(figsize=(12,4))\n",
    "ax.bar(species_top20['Species ID'], species_top20['Count'], color=\"blue\", alpha=0.8, width=-0.4, align='edge')\n",
    "ax.set_xlabel(\"Species ID\",fontsize=14)\n",
    "ax.set_ylabel(\"# of Shark Attacks\",color=\"blue\",fontsize=14)\n",
    "ax.tick_params(axis='x', labelrotation = 90)\n",
    "ax2=ax.twinx()\n",
    "ax2.bar(species_top20['Species ID'], species_top20['Fatality Rate'],color=\"red\", alpha=0.8, width=0.4, align='edge')\n",
    "ax2.set_ylabel(\"Fatality Rate (%)\",color=\"red\",fontsize=14)\n",
    "plt.title('# of Shark Attacks and Fatality Rates by Shark Species', fontsize=16)\n",
    "plt.show()"
   ]
  },
  {
   "cell_type": "code",
   "execution_count": 41,
   "metadata": {},
   "outputs": [
    {
     "name": "stdout",
     "output_type": "stream",
     "text": [
      "                Species ID  Fatal  Count  Fatality Rate\n",
      "8        tawny nurse shark      0      3           0.00\n",
      "9       cookiecutter shark      0      3           0.00\n",
      "10         porbeagle shark      0      4           0.00\n",
      "11            7-gill shark      0      4           0.00\n",
      "12         galapagos shark      0      4           0.00\n",
      "13    caribbean reef shark      0      7           0.00\n",
      "14         grey reef shark      0      7           0.00\n",
      "15  oceanic whitetip shark      1     13           7.69\n",
      "16        hammerhead shark      0     20           0.00\n",
      "17             lemon shark      0     25           0.00\n",
      "18              mako shark      2     26           7.69\n",
      "19           spinner shark      0     27           0.00\n",
      "20              blue shark      5     29          17.24\n",
      "21          blacktip shark      0     34           0.00\n",
      "22             nurse shark      0     39           0.00\n",
      "23               wobbegong      0     40           0.00\n",
      "24       raggedtooth shark      0     48           0.00\n",
      "25              bull shark     20    126          15.87\n",
      "26             tiger shark     40    169          23.67\n",
      "27             white shark     66    288          22.92\n"
     ]
    }
   ],
   "source": [
    "# Reverse the sorting of the species for horizontal bar chart for easier viewing\n",
    "species_top20_h = species_fatal_df.sort_values(by=['Count'], ignore_index=True)[-21:-1]\n",
    "print(species_top20_h)"
   ]
  },
  {
   "cell_type": "code",
   "execution_count": 42,
   "metadata": {},
   "outputs": [
    {
     "data": {
      "image/png": "[encoded data removed]",
      "text/plain": [
       "<Figure size 648x648 with 2 Axes>"
      ]
     },
     "metadata": {
      "needs_background": "light"
     },
     "output_type": "display_data"
    }
   ],
   "source": [
    "fig,ax = plt.subplots(figsize=(9,9))\n",
    "ax.barh(species_top20_h['Species ID'], species_top20_h['Fatality Rate'],color=\"red\", height=-0.4, alpha=0.8, align='edge')\n",
    "ax.set_xlabel(\"Fatality Rate (%)\",color=\"red\",fontsize=14)\n",
    "ax.set_ylabel(\"Species ID\",fontsize=14)\n",
    "ax2 = ax.twiny()\n",
    "ax2.barh(species_top20_h['Species ID'], species_top20_h['Count'], color=\"blue\", height=0.4, alpha=0.8, align='edge')\n",
    "ax2.set_xlabel(\"# of Shark Attacks\",color=\"blue\",fontsize=14)\n",
    "plt.title('# of Shark Attacks and Fatality Rates by Shark Species', fontsize=16)\n",
    "plt.show()"
   ]
  },
  {
   "cell_type": "markdown",
   "metadata": {},
   "source": [
    "While the White Shark had more attacks attributed to it (288), the Tiger Shark (169 attacks) had a slightly higher fatality rate (23% for the White Shark and 24% for the Tiger Shark). The next highest fatality rate came from the Blue Shark, at ~17%, with 5 of 29 attacks ending in a human death. \n",
    "\n",
    "Of course, these numbers should be taken as a sample only, since, in 4785 of the attacks (~19% fatality rate), the shark species was not identified. Also, for this analysis, we assumed that any of the records with an 'unknown' entry for the 'Fatal (Y/N)' column were not fatal. Assuredly, the number of attacks and fatality counts for several of these shark species would be higher if more, or all, sharks were identified in those attacks. \n",
    "\n",
    "Before moving on, let's take a quick look at some of the species identified with the most attacks and their values in the 'Fatal (Y/N)' column."
   ]
  },
  {
   "cell_type": "code",
   "execution_count": 43,
   "metadata": {},
   "outputs": [
    {
     "name": "stdout",
     "output_type": "stream",
     "text": [
      "White Shark \n",
      " N          216\n",
      "Y           66\n",
      "UNKNOWN      6\n",
      "Name: Fatal (Y/N), dtype: int64 \n",
      "\n",
      "Tiger Shark \n",
      " N          125\n",
      "Y           40\n",
      "UNKNOWN      4\n",
      "Name: Fatal (Y/N), dtype: int64 \n",
      "\n",
      "Bull Shark \n",
      " N    106\n",
      "Y     20\n",
      "Name: Fatal (Y/N), dtype: int64\n"
     ]
    }
   ],
   "source": [
    "white = gsaf[gsaf['Species ID'] == 'white shark']\n",
    "print('White Shark', '\\n', white['Fatal (Y/N)'].value_counts(), '\\n')\n",
    "\n",
    "tiger = gsaf[gsaf['Species ID'] == 'tiger shark']\n",
    "print('Tiger Shark', '\\n', tiger['Fatal (Y/N)'].value_counts(), '\\n')\n",
    "\n",
    "bull = gsaf[gsaf['Species ID'] == 'bull shark']\n",
    "print('Bull Shark', '\\n', bull['Fatal (Y/N)'].value_counts())\n"
   ]
  },
  {
   "cell_type": "markdown",
   "metadata": {},
   "source": [
    "Based on this output, only 6 of the 288 attacks by White Sharks did not have a definite fatality or non-fatality value. For the Tiger Shark, only 4 of the 169 were unknown. Based on this information, assuming the 'unknown' fatality values were non-fatal, the final fatality rates wouldn't have changed significantly for these species. Again, with so many unknowns (species ID, fatality, etc.) in these records, we're looking for trends more so than exact numbers."
   ]
  },
  {
   "cell_type": "markdown",
   "metadata": {},
   "source": [
    "### Activity of Humans During Shark Attacks\n",
    "\n",
    "Let's take a look at what the humans were doing during the shark attacks. This information is documented in the 'Activity' column of the GSAF dataset. Like the some of other text-based columns, quite a bit of cleanup in this information is expected."
   ]
  },
  {
   "cell_type": "code",
   "execution_count": 44,
   "metadata": {},
   "outputs": [
    {
     "data": {
      "text/plain": [
       "count        5276\n",
       "unique       1310\n",
       "top       Surfing\n",
       "freq         1022\n",
       "Name: Activity, dtype: object"
      ]
     },
     "execution_count": 44,
     "metadata": {},
     "output_type": "execute_result"
    }
   ],
   "source": [
    "gsaf['Activity'].describe()"
   ]
  },
  {
   "cell_type": "markdown",
   "metadata": {},
   "source": [
    "The 'Activity' column has 5276 records with 1310 unique entries, and the most numerous is, unsurprisingly, surfing (1022 attacks). "
   ]
  },
  {
   "cell_type": "code",
   "execution_count": 45,
   "metadata": {},
   "outputs": [
    {
     "data": {
      "text/plain": [
       "Surfing            1022\n",
       "Swimming            813\n",
       "NaN                 442\n",
       "Fishing             405\n",
       "Spearfishing        345\n",
       "Wading              151\n",
       "Diving              111\n",
       "Snorkeling           99\n",
       "Standing             96\n",
       "Scuba diving         79\n",
       "Bathing              76\n",
       "Body boarding        62\n",
       "Body surfing         50\n",
       "Kayaking             37\n",
       "Boogie boarding      36\n",
       "Treading water       32\n",
       "Free diving          29\n",
       "Pearl diving         22\n",
       "Surf skiing          20\n",
       "Windsurfing          19\n",
       "Floating             18\n",
       "Boogie Boarding      17\n",
       "Walking              17\n",
       "Shark fishing        14\n",
       "Surf fishing         13\n",
       "Rowing               12\n",
       "Surf-skiing          12\n",
       "Kayak Fishing        11\n",
       "Freediving           10\n",
       "Scuba Diving         10\n",
       "Name: Activity, dtype: int64"
      ]
     },
     "execution_count": 45,
     "metadata": {},
     "output_type": "execute_result"
    }
   ],
   "source": [
    "gsaf['Activity'].value_counts(dropna=False).head(30)"
   ]
  },
  {
   "cell_type": "markdown",
   "metadata": {},
   "source": [
    "Much like some of the other columns, the 'Activity' column contains similar activities, such as Diving, Scuba Diving, Pearl diving, Freediving. Also, does \"Boogie boarding\" and body boarding mean the same activity? Yes, they are similar enough to each other, but different from surfing. Let's clean up some of the activities."
   ]
  },
  {
   "cell_type": "code",
   "execution_count": 46,
   "metadata": {},
   "outputs": [
    {
     "data": {
      "text/plain": [
       "surfing                    1022\n",
       "swimming                    813\n",
       "unknown                     445\n",
       "fishing                     405\n",
       "spearfishing                345\n",
       "wading                      151\n",
       "diving                      111\n",
       "snorkeling                   99\n",
       "standing                     96\n",
       "scuba diving                 93\n",
       "bathing                      76\n",
       "body boarding                71\n",
       "boogie boarding              53\n",
       "body surfing                 53\n",
       "kayaking                     37\n",
       "treading water               32\n",
       "surf skiing                  32\n",
       "free diving                  31\n",
       "pearl diving                 22\n",
       "windsurfing                  19\n",
       "floating                     18\n",
       "walking                      17\n",
       "shark fishing                15\n",
       "kayak fishing                14\n",
       "surf fishing                 14\n",
       "sea disaster                 13\n",
       "rowing                       12\n",
       "paddle boarding              11\n",
       "canoeing                     11\n",
       "kite surfing                 11\n",
       "fishing for sharks           10\n",
       "freediving                   10\n",
       "wade fishing                  9\n",
       "fell overboard                9\n",
       "freedom swimming              9\n",
       "sitting on surfboard          9\n",
       "diving for abalone            8\n",
       "playing                       8\n",
       "diving for trochus            8\n",
       "free diving for abalone       7\n",
       "Name: Activity, dtype: int64"
      ]
     },
     "execution_count": 46,
     "metadata": {},
     "output_type": "execute_result"
    }
   ],
   "source": [
    "# Replace the null values with 'unknown' and change all the values to lowercase\n",
    "gsaf['Activity'].fillna('unknown', inplace = True)\n",
    "gsaf['Activity'] = gsaf['Activity'].str.lower().str.replace('-',' ')\n",
    "gsaf['Activity'].value_counts().head(40)"
   ]
  },
  {
   "cell_type": "code",
   "execution_count": 47,
   "metadata": {},
   "outputs": [
    {
     "data": {
      "text/plain": [
       "surfing                    1085\n",
       "swimming                    872\n",
       "fishing                     482\n",
       "unknown                     445\n",
       "spearfishing                370\n",
       "wading                      354\n",
       "diving                      250\n",
       "body boarding               177\n",
       "snorkeling                  109\n",
       "watercraft                   62\n",
       "freediving                   48\n",
       "windsurfing                  19\n",
       "paddle boarding              18\n",
       "sea disaster                 13\n",
       "boat                         10\n",
       "fell overboard                9\n",
       "paddleskiing                  5\n",
       "kite boarding                 5\n",
       "feeding sharks                5\n",
       "lifesaving drill              4\n",
       "tagging sharks                4\n",
       "jumping                       4\n",
       "shell diving                  4\n",
       "jumped into the water         4\n",
       "sponge diving                 4\n",
       "floating on his back          4\n",
       "shipwreck                     4\n",
       "air disaster                  4\n",
       "diving for beche de mer       4\n",
       "murder                        4\n",
       "Name: Activity, dtype: int64"
      ]
     },
     "execution_count": 47,
     "metadata": {},
     "output_type": "execute_result"
    }
   ],
   "source": [
    "# Manually create a dictionary to change the original activity to a similar category\n",
    "change_acts = {'diving for trochus':'diving', 'scuba diving':'diving', 'diving for abalone':'diving',\n",
    "                'free diving':'freediving', 'fishing for sharks':'fishing', 'surf fishing':'fishing',\n",
    "                'shark fishing':'fishing', 'kayak fishing':'fishing', 'freedom swimming':'swimming',\n",
    "              'boogie boarding':'body boarding', 'body surfing':'body boarding', 'wade fishing':'fishing',\n",
    "              'standing':'wading', 'bathing':'wading', 'walking':'wading', 'kayaking':'watercraft',\n",
    "              'rowing':'watercraft', 'canoeing':'watercraft', 'pearl diving':'diving', 'treading water':'swimming',\n",
    "              'surf skiing':'surfing', 'floating':'swimming', 'skindiving':'snorkeling', 'kite surfing':'surfing',\n",
    "              'spearfishing on scuba':'spearfishing', 'stand up paddleboarding':'paddle boarding',\n",
    "              'sitting on surfboard':'surfing', 'surfing (sitting on his board)':'surfing', 'splashing':'wading',\n",
    "              'kayaking / fishing':'fishing', 'free diving / spearfishing':'spearfishing', 'fishing on a boat':'fishing',\n",
    "              'fishing for mackerel':'fishing', 'free diving for abalone':'freediving', 'spearfishing / free diving':'spearfishing',\n",
    "              'spearfishing (free diving)':'spearfishing', 'sailing':'boat', 'scuba diving (submerged)':'diving',\n",
    "              'scuba diving (but on surface)':'diving', 'playing':'wading', 'paddling on surfboard':'surfing',\n",
    "              'skin diving':'snorkeling', 'free diving & spearfishing':'spearfishing'}\n",
    "gsaf['Activity'].astype(str)\n",
    "gsaf['Activity'].replace(change_acts, value=None, inplace=True)\n",
    "gsaf['Activity'].value_counts().head(30)"
   ]
  },
  {
   "cell_type": "markdown",
   "metadata": {},
   "source": [
    "There are still a variety of activities, but we're just looking for generalities of the most common types. We've combined a lot of the different activities, so lets' see the top 15 activities. "
   ]
  },
  {
   "cell_type": "code",
   "execution_count": 48,
   "metadata": {},
   "outputs": [
    {
     "data": {
      "text/plain": [
       "surfing            1085\n",
       "swimming            872\n",
       "fishing             482\n",
       "unknown             445\n",
       "spearfishing        370\n",
       "wading              354\n",
       "diving              250\n",
       "body boarding       177\n",
       "snorkeling          109\n",
       "watercraft           62\n",
       "freediving           48\n",
       "windsurfing          19\n",
       "paddle boarding      18\n",
       "sea disaster         13\n",
       "boat                 10\n",
       "Name: Activity, dtype: int64"
      ]
     },
     "execution_count": 48,
     "metadata": {},
     "output_type": "execute_result"
    }
   ],
   "source": [
    "gsaf['Activity'].value_counts().head(15)"
   ]
  },
  {
   "cell_type": "code",
   "execution_count": 49,
   "metadata": {
    "scrolled": true
   },
   "outputs": [
    {
     "data": {
      "text/plain": [
       "surfing            18.975166\n",
       "swimming           15.250087\n",
       "fishing             8.429521\n",
       "unknown             7.782441\n",
       "spearfishing        6.470794\n",
       "wading              6.190976\n",
       "diving              4.372158\n",
       "body boarding       3.095488\n",
       "snorkeling          1.906261\n",
       "watercraft          1.084295\n",
       "freediving          0.839454\n",
       "windsurfing         0.332284\n",
       "paddle boarding     0.314795\n",
       "sea disaster        0.227352\n",
       "boat                0.174886\n",
       "Name: Activity, dtype: float64"
      ]
     },
     "execution_count": 49,
     "metadata": {},
     "output_type": "execute_result"
    }
   ],
   "source": [
    "gsaf['Activity'].value_counts(normalize=True).head(15)*100"
   ]
  },
  {
   "cell_type": "markdown",
   "metadata": {},
   "source": [
    "There still seems to be some overlap between activities. For example, should fishing and spearfishing be counted as the same? What about swimming and wading? Body boarding and surfing? Windsurfing & surfing? For this analysis, we'll keep them as they are currently categorized since they are similar to, but different enough, from each other.\n",
    "\n",
    "Based on the current results, the highest number of attacks occurred on surfers (19%), followed closely by swimmers (15%). Fishing comes in at number 3 with 8.4%. "
   ]
  },
  {
   "cell_type": "markdown",
   "metadata": {},
   "source": [
    "### Provoked Versus Unprovoked Shark Attacks by Human Activity\n",
    "\n",
    "With Surfing being the most common human acitivity for all shark attacks, let's take a look at which human activities are the most common for provoked and unprovoked shark attacks. It's doubtful that surfing would a common activity associated with provoked shark attacks, so what activities are most common with provoked attacks?"
   ]
  },
  {
   "cell_type": "code",
   "execution_count": 50,
   "metadata": {},
   "outputs": [
    {
     "data": {
      "text/plain": [
       "fishing                               36.265709\n",
       "spearfishing                          10.053860\n",
       "unknown                                5.745063\n",
       "diving                                 4.129264\n",
       "surfing                                2.692998\n",
       "swimming                               1.974865\n",
       "wading                                 1.795332\n",
       "freediving                             1.436266\n",
       "snorkeling                             1.256732\n",
       "watercraft                             0.718133\n",
       "feeding sharks                         0.538600\n",
       "seine netting                          0.538600\n",
       "finning the shark that bit him         0.359066\n",
       "hoisting shark aboard fishing boat     0.359066\n",
       "tagging sharks                         0.359066\n",
       "Name: Activity, dtype: float64"
      ]
     },
     "execution_count": 50,
     "metadata": {},
     "output_type": "execute_result"
    }
   ],
   "source": [
    "# Isolate only the provoked attacks\n",
    "provoked = gsaf[gsaf['Type'] == 'Provoked']\n",
    "provoked['Activity'].value_counts(normalize=True).head(15)*100"
   ]
  },
  {
   "cell_type": "code",
   "execution_count": 51,
   "metadata": {},
   "outputs": [
    {
     "data": {
      "text/plain": [
       "count         557\n",
       "unique        189\n",
       "top       fishing\n",
       "freq          202\n",
       "Name: Activity, dtype: object"
      ]
     },
     "execution_count": 51,
     "metadata": {},
     "output_type": "execute_result"
    }
   ],
   "source": [
    "provoked['Activity'].describe()"
   ]
  },
  {
   "cell_type": "markdown",
   "metadata": {},
   "source": [
    "By far, fishing was the most dominant human activity for provoked attacks (36%). Second was spearfishing at 10%. It's not surprising that those two acitivities account for 46% of of the provoked attacks. Further research into these activities may be beneficial. There were 189 unique entries for human activity, so let's take a look at the unique values."
   ]
  },
  {
   "cell_type": "code",
   "execution_count": 52,
   "metadata": {},
   "outputs": [
    {
     "data": {
      "text/plain": [
       "array(['swimming', 'fishing', 'feeding sharks', 'surfing',\n",
       "       'diving in shark tank', 'unknown', 'spearfishing',\n",
       "       'putting hand in shark tank', 'wading', 'freediving',\n",
       "       'kayak fishing for sharks', 'fishing / wading', 'touching a shark',\n",
       "       'attempting to lasso a shark', 'grabbing shark for a selfie',\n",
       "       'lobstering', 'teasing a shark', 'fishing for blue sharks',\n",
       "       'petting a shark', 'longline fishing for sharks',\n",
       "       \"fishing   'tag & release'\",\n",
       "       'attempting to rescue an injured & beached shark',\n",
       "       'diving, feeding sharks', 'fishing (illegally)', 'watercraft',\n",
       "       'diving', 'standing, holding shark pup',\n",
       "       'shark fishing on the ricardo astorga',\n",
       "       'shark fishing on the don agustín vi.', 'snorkeling',\n",
       "       'measuring sharks', 'surf fishing / wading', 'body boarding',\n",
       "       \"accidentally stood on hooked shark's tail before attempting to gut it\",\n",
       "       'fishing for snapper', 'removing hook from shark',\n",
       "       'reviving a sedated shark', 'shark tagging',\n",
       "       'diving / kissing the shark', 'touching sharks', 'tagging sharks',\n",
       "       'removing shark from net', 'scuba diving in aquarium tank',\n",
       "       'diving in aquarium display tank',\n",
       "       'attempting to drive shark away from sailing regatta',\n",
       "       'walking, carrying surfboard & stepped on shark', 'killing sharks',\n",
       "       'petting captive sharks', 'wading, when he stepped on the shark',\n",
       "       'fishing, removing the shark from his line',\n",
       "       'fishing from prawn trawler',\n",
       "       'surfing, fell off surfboard & stepped on the shark.',\n",
       "       'fell onto dead shark', 'conducting research',\n",
       "       'feeding prawns to captive sharks',\n",
       "       \"scientific research (dr. sonny gruber's student)\",\n",
       "       'fishing for tuna', 'moving a shark in a net',\n",
       "       'swimming in fish tank',\n",
       "       'jumped off surfboard & landed on the shark',\n",
       "       'removing shark from tank in nightclub',\n",
       "       'finning the shark that bit him',\n",
       "       \"on board 51' fishing vessel one ki\",\n",
       "       \"fishing, stepped on hooked shark's head\", \"filming 5' blue shark\",\n",
       "       'feeding fish', \"diving in sharkey's reef restaurant’s aquarium\",\n",
       "       \"attempting to lasso shark's tail\",\n",
       "       'returning to shore, collided with shark', 'nsb meshing',\n",
       "       'steinhart aquarium',\n",
       "       'inspecting teeth of supposedly dead (hooked & shot) shark',\n",
       "       'gaffing netted shark', 'spearfishing / scuba diving',\n",
       "       'fishing for white shark', 'fishing for snoek & yellowtail',\n",
       "       'filming & feeding captive sharks',\n",
       "       'diving & force feeding the shark',\n",
       "       'attempting to drag hooked shark ashore by its tail',\n",
       "       'fishing from paddleski', 'scuba diving & feeding fish',\n",
       "       'sight seeing', 'feeding mullet to sharks',\n",
       "       'picking up shark by the tail', 'pulling shark from the water',\n",
       "       'fishing boat', 'feeding a shark', 'spearfishing competition',\n",
       "       'hunting crayfish', 'killing a shark', 'clamming',\n",
       "       'fishing (big game)', 'helping men land a shark',\n",
       "       \"fishing from 34' boat when pulled overboard by hooked shark\",\n",
       "       'spearing fish', 'fishing (rod & line)',\n",
       "       'attempting to anesthetize shark', 'collecting marine specimens',\n",
       "       'filming underwater, carrying powerhead',\n",
       "       'helping friend land hooked shark',\n",
       "       'fishing / standing in waist deep water',\n",
       "       'catching sharks under government contract',\n",
       "       'testing anti shark cage', 'spearfishing, pulled shark’s tail',\n",
       "       'fishing, on charter boat silver dollar', 'finning the shark',\n",
       "       'fishing for albacore',\n",
       "       'scuba diving, attempting to catch a captive shark',\n",
       "       'fishing, two large sharks passed. he speared one and it bit him',\n",
       "       'fishing (trolling) from canoe',\n",
       "       'fishing, speared shark upset canoe & man fell in water',\n",
       "       'fishing from dinghy', 'cleaning a tank',\n",
       "       'collecting aquarium specimens',\n",
       "       'chasing shark out of bathing area while riding on a surf ski',\n",
       "       'fishing inside net',\n",
       "       'holding shark on leader & dangling it above the water',\n",
       "       'helping angler land a shark',\n",
       "       'fishing, tossing netted shark onboard',\n",
       "       'fishing, hauling in a set line',\n",
       "       'spearfishing, shot a sandtiger shark. cord to spear tangled round his legs & a wave washed him onto a reef.',\n",
       "       'fishing, hooked shark towed boat out to sea, storm swamped boat',\n",
       "       'fishing, lifting shark out of craypot',\n",
       "       'standing, watching seine netters',\n",
       "       'spearfishing, smith & walker touched shark with tip of their guns',\n",
       "       'spearfishing, shot shark, hauled it onto boat',\n",
       "       'spearfishing with joe turner (24). shark attracted to speared halibut on belt of one diver, tried to bite ide’s speargun & he shot it in the mouth',\n",
       "       'pulling anchor', 'dragging stranded shark ashore',\n",
       "       'paddling & sailing from buenos aires to miami',\n",
       "       'slapped shark on tail as it swam by',\n",
       "       'swimming, towing the shark',\n",
       "       'placed hand in disemboweled shark’s jaws',\n",
       "       'attempting to net shark in shark channel',\n",
       "       'attempting to kill a shark with explosives',\n",
       "       'floating in inner tube', 'spearfishing & lassoed shark',\n",
       "       \"competing in u/w endurance record, standing beside drum in 10' of water\",\n",
       "       'fishing (trawling)', 'grabbed shark & threw it on deck',\n",
       "       'fishing from market fishboat sea spray',\n",
       "       'landing hooked shark in boat',\n",
       "       'bitten while cutting shark from net',\n",
       "       'spearfishing, speared a small shark', 'fell off surf ski',\n",
       "       'jerked overboard while pole fishing for tuna',\n",
       "       'examining netted shark, that had been shot', 'spearing a shark',\n",
       "       'fishing, shark caught in his net',\n",
       "       'bringing hooked, harpooned shark onboard boat',\n",
       "       'underwater photography',\n",
       "       'moving shark from tuna vessel when boat rolled, placing both man & shark in chest deep water',\n",
       "       'attempting to ride a shark',\n",
       "       'in rubber dinghy with captain eddie rickenbacker for 21 days.',\n",
       "       'sculling', \"fishing from 32' boat\", 'seine netting',\n",
       "       'collecting fish in military trap when bitten by captured shark that had been shot by soldiers with garten',\n",
       "       'dress diving, filming shark & pulling it through the water for a motion picture scene',\n",
       "       \"fishing, removing gaff from shark's mouth\",\n",
       "       'watching seine netters with friends, one of whom picked up a netted shark',\n",
       "       'fishing from launch, fell into net with shark',\n",
       "       \"holding shark's tail\",\n",
       "       'fishing for the shark that killed george lundberg',\n",
       "       'fishing for cod', 'touching the mouth of a supposedly dead shark',\n",
       "       'paddleskiing', 'cruising',\n",
       "       'put foot inside a landed & supposedly dead shark',\n",
       "       'put foot inside mouth of supposedly dead shark',\n",
       "       'hauling in net with shark in it',\n",
       "       \"fishing, caught a 15' shark & took it onboard\",\n",
       "       'on expedition filming a feature movie & standing on tripod',\n",
       "       'gaffing & attempting to bring onboard a harpooned shark',\n",
       "       'fishing, hauling in net, shark in net',\n",
       "       'removing shark from a trap', 'standing in knee deep water',\n",
       "       'wading, netting fish', 'feeling the shark’s teeth',\n",
       "       'shark hoisted on board liner tahiti', 'removing shark from a net',\n",
       "       'hoisting shark aboard fishing boat', 'harpooned shark',\n",
       "       'stuffing a shark into an automobile',\n",
       "       'fishing, attempted to take a netted shark', 'hauling in net',\n",
       "       'hard hat diving', 'shooting sharks', 'standing on ship deck'],\n",
       "      dtype=object)"
      ]
     },
     "execution_count": 52,
     "metadata": {},
     "output_type": "execute_result"
    }
   ],
   "source": [
    "provoked['Activity'].unique()"
   ]
  },
  {
   "cell_type": "markdown",
   "metadata": {},
   "source": [
    "The 189 unique entries for human activity for provoked attacks could probably be combined into fewer categories, based on the listing of them. Just from a quick glance at many of these, it looks like fishing is mentioned in the text numerous times in this column. Therefore, we can safely assume that the fishing activity was responsible for much more than the 36% of provoked shark attacks. The bottomline is that fishing is the major human activity ocurring during provoked shark attacks."
   ]
  },
  {
   "cell_type": "code",
   "execution_count": 53,
   "metadata": {
    "scrolled": true
   },
   "outputs": [
    {
     "data": {
      "text/plain": [
       "surfing            24.501561\n",
       "swimming           18.496277\n",
       "wading              7.758828\n",
       "spearfishing        6.701898\n",
       "unknown             6.461686\n",
       "diving              4.732164\n",
       "body boarding       3.987509\n",
       "fishing             3.146769\n",
       "snorkeling          2.354072\n",
       "freediving          0.840740\n",
       "windsurfing         0.456402\n",
       "paddle boarding     0.432380\n",
       "watercraft          0.288254\n",
       "fell overboard      0.192169\n",
       "kite boarding       0.120106\n",
       "Name: Activity, dtype: float64"
      ]
     },
     "execution_count": 53,
     "metadata": {},
     "output_type": "execute_result"
    }
   ],
   "source": [
    "unprovoked = gsaf[gsaf['Type'] == 'Unprovoked']\n",
    "unprovoked['Activity'].value_counts(normalize=True).head(15)*100"
   ]
  },
  {
   "cell_type": "markdown",
   "metadata": {},
   "source": [
    "As expected, surfing (24.5%) and swimming (18.5%) were the most common human activities occurring during unprovoked shark attacks. "
   ]
  },
  {
   "cell_type": "markdown",
   "metadata": {},
   "source": [
    "### Fatality by Human Activity\n",
    "\n",
    "Are there certain human activities that lead to a greater fatality rate? Let's take a look at the fatality rates for the documented human activities. "
   ]
  },
  {
   "cell_type": "code",
   "execution_count": 54,
   "metadata": {},
   "outputs": [
    {
     "name": "stdout",
     "output_type": "stream",
     "text": [
      "                                               Activity  Fatal  Count\n",
      "0     \"climbing up to ship after repairing the stern...      1      1\n",
      "1     \"flying tiger\" transport plane went down with ...      1      2\n",
      "2                             \"riding waves on a board\"      0      1\n",
      "3                                 \"swimming vigorously\"      0      1\n",
      "4                                                     .      1      3\n",
      "...                                                 ...    ...    ...\n",
      "1225                          wreck of the tug magellan      1      1\n",
      "1226   yacht gooney bird foundered, 4 survivors on raft      0      1\n",
      "1227                   yacht of michael howell capsized      1      1\n",
      "1228                                         yacht race      0      1\n",
      "1229  zosimo & his son, jeffrey popa, failed to retu...      0      1\n",
      "\n",
      "[1230 rows x 3 columns]\n"
     ]
    }
   ],
   "source": [
    "# Create a fatality dataframe by human activity\n",
    "act_fatal = gsaf.groupby('Activity')['Fatal'].sum()\n",
    "act_fatal_df = pd.DataFrame(act_fatal)\n",
    "act_fatal_df.columns = ['Fatal']\n",
    "act_fatal_df.reset_index(inplace=True)\n",
    "\n",
    "# Create a count of incidents dataframe by human activity\n",
    "act_count = gsaf.groupby('Activity')['Fatal'].count()\n",
    "act_count_df = pd.DataFrame(act_count)\n",
    "act_count_df.columns = ['Count']\n",
    "act_count_df.reset_index(inplace=True)\n",
    "\n",
    "# Merge the fatality and count dataframes\n",
    "act_fatal_df = pd.merge(act_fatal_df, act_count_df, how = 'left', on = 'Activity')\n",
    "print(act_fatal_df)"
   ]
  },
  {
   "cell_type": "code",
   "execution_count": 55,
   "metadata": {},
   "outputs": [
    {
     "name": "stdout",
     "output_type": "stream",
     "text": [
      "                                               Activity  Fatal  Count  \\\n",
      "0     \"climbing up to ship after repairing the stern...      1      1   \n",
      "1     \"flying tiger\" transport plane went down with ...      1      2   \n",
      "2                             \"riding waves on a board\"      0      1   \n",
      "3                                 \"swimming vigorously\"      0      1   \n",
      "4                                                     .      1      3   \n",
      "...                                                 ...    ...    ...   \n",
      "1225                          wreck of the tug magellan      1      1   \n",
      "1226   yacht gooney bird foundered, 4 survivors on raft      0      1   \n",
      "1227                   yacht of michael howell capsized      1      1   \n",
      "1228                                         yacht race      0      1   \n",
      "1229  zosimo & his son, jeffrey popa, failed to retu...      0      1   \n",
      "\n",
      "      Fatality Rate  \n",
      "0            100.00  \n",
      "1             50.00  \n",
      "2              0.00  \n",
      "3              0.00  \n",
      "4             33.33  \n",
      "...             ...  \n",
      "1225         100.00  \n",
      "1226           0.00  \n",
      "1227         100.00  \n",
      "1228           0.00  \n",
      "1229           0.00  \n",
      "\n",
      "[1230 rows x 4 columns]\n"
     ]
    }
   ],
   "source": [
    "# Calcualate a fatility rate by activity\n",
    "act_fatal_df['Fatality Rate'] = round((act_fatal_df['Fatal'] / act_fatal_df['Count']) * 100, 2)\n",
    "print(act_fatal_df)"
   ]
  },
  {
   "cell_type": "code",
   "execution_count": 56,
   "metadata": {},
   "outputs": [
    {
     "name": "stdout",
     "output_type": "stream",
     "text": [
      "             Activity  Fatal  Count  Fatality Rate\n",
      "1215             boat      0     10           0.00\n",
      "1216     sea disaster      6     13          46.15\n",
      "1217  paddle boarding      0     18           0.00\n",
      "1218      windsurfing      3     19          15.79\n",
      "1219       freediving      7     48          14.58\n",
      "1220       watercraft      3     62           4.84\n",
      "1221       snorkeling     18    109          16.51\n",
      "1222    body boarding     25    177          14.12\n",
      "1223           diving     38    250          15.20\n",
      "1224           wading     58    354          16.38\n",
      "1225     spearfishing     48    370          12.97\n",
      "1226          unknown     73    445          16.40\n",
      "1227          fishing     37    482           7.68\n",
      "1228         swimming    263    872          30.16\n",
      "1229          surfing     49   1085           4.52\n"
     ]
    }
   ],
   "source": [
    "# Reverse the sorting of the activities for horizontal bar chart\n",
    "act_top15_h = act_fatal_df.sort_values(by=['Count'], ignore_index=True)[-15:]\n",
    "print(act_top15_h)"
   ]
  },
  {
   "cell_type": "code",
   "execution_count": 57,
   "metadata": {},
   "outputs": [
    {
     "data": {
      "image/png": "[encoded data removed]",
      "text/plain": [
       "<Figure size 648x648 with 2 Axes>"
      ]
     },
     "metadata": {
      "needs_background": "light"
     },
     "output_type": "display_data"
    }
   ],
   "source": [
    "# Plot the number of shark attacks and fatality rate versus the human activity\n",
    "fig,ax = plt.subplots(figsize=(9,9))\n",
    "ax.barh(act_top15_h['Activity'], act_top15_h['Fatality Rate'],color=\"red\", height=-0.4, alpha=0.8, align='edge')\n",
    "ax.set_xlabel(\"Fatality Rate (%)\",color=\"red\",fontsize=14)\n",
    "ax.set_ylabel(\"Activity\",fontsize=14)\n",
    "ax2=ax.twiny()\n",
    "ax2.barh(act_top15_h['Activity'], act_top15_h['Count'], color=\"blue\", height=0.4, alpha=0.8, align='edge')\n",
    "ax2.set_xlabel(\"# of Shark Attacks\",color=\"blue\",fontsize=14)\n",
    "plt.title('# of Shark Attacks and Fatality Rates by Human Activity', fontsize=16)\n",
    "plt.show()"
   ]
  },
  {
   "cell_type": "markdown",
   "metadata": {},
   "source": [
    "Surfing was the activity that shows the highest number of shark attacks worldwide, at ~19%, followed by swimming at ~15%. However, the highest fatality rate was the sea disaster activity, at ~46%, but the number of attacks for that activity was quite low (13, with 6 being fatal). Of the higher number of attacks (>50), swimming had the highest fatality rate (30%). "
   ]
  },
  {
   "cell_type": "markdown",
   "metadata": {},
   "source": [
    "### Summary and Future Efforts\n",
    "\n",
    "The Global Shark Attack File dataset provided a good review of data cleaning, analysis and visualization. The disadvantage to this dataset was the sparse metadata available and a lack of detailed explanations of the information found in the dataset. Here is a quick rundown of the results of the analysis of shark attacks since 1900:\n",
    "\n",
    "1. Type of attack - nearly 73% were unprovoked, with just under 10% were identified as being a provoked incident. In other words, the majority of shark attacks occur on unsuspecting humans.\n",
    "\n",
    "2. Fatalities - worldwide, approximately 18% of the shark attacks were fatal. While the USA had the most recorded shark attacks, it also had the second lowest fatality rate (6%). Australia had the second most number of attacks, but its fatality rate matched that of the worldwide rate - 18%.\n",
    "\n",
    "3. Shark species involved in the top 5 USA states with the most shark attacks - Of those species, the White Shark had the highest number of attacks (288) and the second highest fatality rate (23%). The Tiger Shark was second in number of attacks (169), but first in fatality rate (24%).\n",
    "\n",
    "4. Human Activity - surfing was the most popular human activity documented in the dataset, with over 1000 occurrences. Conversely, the fatality rate for surfers was relatively low - 4.5%. Swimming was the second most common, and the fatality rate was the second highest - 30%. Therefore, surfers are more likely to get bit by a shark, but swimmers were much more likely to die from a shark attack"
   ]
  },
  {
   "cell_type": "code",
   "execution_count": 59,
   "metadata": {},
   "outputs": [],
   "source": [
    "# Export cleaned GSAF dataset\n",
    "gsaf.to_csv('/home/ken/my_datasets/GSAF/GSAF_cleaned_v2.csv', index=False)"
   ]
  }
 ],
 "metadata": {
  "kernelspec": {
   "display_name": "Python 3 (ipykernel)",
   "language": "python",
   "name": "python3"
  },
  "language_info": {
   "codemirror_mode": {
    "name": "ipython",
    "version": 3
   },
   "file_extension": ".py",
   "mimetype": "text/x-python",
   "name": "python",
   "nbconvert_exporter": "python",
   "pygments_lexer": "ipython3",
   "version": "3.8.12"
  }
 },
 "nbformat": 4,
 "nbformat_minor": 4
}
